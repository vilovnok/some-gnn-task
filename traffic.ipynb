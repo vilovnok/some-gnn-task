{
 "cells": [
  {
   "cell_type": "code",
   "execution_count": 1,
   "id": "b58d1242-1645-484a-9388-0656abe4e319",
   "metadata": {},
   "outputs": [],
   "source": [
    "import pandas as pd\n",
    "from glob import glob\n",
    "import torch.nn.functional as F\n",
    "\n",
    "datasets = glob('./dataset/*')\n",
    "\n",
    "df_w = pd.read_csv(datasets[0], header=None)\n",
    "df_v = pd.read_csv(datasets[1], header=None)"
   ]
  },
  {
   "cell_type": "code",
   "execution_count": null,
   "id": "3c4042f1-8036-4424-9c1e-c554c8f55821",
   "metadata": {},
   "outputs": [],
   "source": []
  },
  {
   "cell_type": "markdown",
   "id": "9665ab4c-d978-4094-8bfe-1c9daeb7522b",
   "metadata": {},
   "source": [
    "## Dataset"
   ]
  },
  {
   "cell_type": "code",
   "execution_count": 2,
   "id": "cb8103ba-9a36-4f27-94f7-2d8239bb907d",
   "metadata": {},
   "outputs": [
    {
     "data": {
      "text/html": [
       "<div>\n",
       "<style scoped>\n",
       "    .dataframe tbody tr th:only-of-type {\n",
       "        vertical-align: middle;\n",
       "    }\n",
       "\n",
       "    .dataframe tbody tr th {\n",
       "        vertical-align: top;\n",
       "    }\n",
       "\n",
       "    .dataframe thead th {\n",
       "        text-align: right;\n",
       "    }\n",
       "</style>\n",
       "<table border=\"1\" class=\"dataframe\">\n",
       "  <thead>\n",
       "    <tr style=\"text-align: right;\">\n",
       "      <th></th>\n",
       "      <th>0</th>\n",
       "      <th>1</th>\n",
       "      <th>2</th>\n",
       "      <th>3</th>\n",
       "      <th>4</th>\n",
       "      <th>5</th>\n",
       "      <th>6</th>\n",
       "      <th>7</th>\n",
       "      <th>8</th>\n",
       "      <th>9</th>\n",
       "      <th>...</th>\n",
       "      <th>218</th>\n",
       "      <th>219</th>\n",
       "      <th>220</th>\n",
       "      <th>221</th>\n",
       "      <th>222</th>\n",
       "      <th>223</th>\n",
       "      <th>224</th>\n",
       "      <th>225</th>\n",
       "      <th>226</th>\n",
       "      <th>227</th>\n",
       "    </tr>\n",
       "  </thead>\n",
       "  <tbody>\n",
       "    <tr>\n",
       "      <th>0</th>\n",
       "      <td>0.00</td>\n",
       "      <td>3165.94</td>\n",
       "      <td>8731.54</td>\n",
       "      <td>11903.45</td>\n",
       "      <td>7757.18</td>\n",
       "      <td>19878.51</td>\n",
       "      <td>18436.35</td>\n",
       "      <td>2213.47</td>\n",
       "      <td>5887.74</td>\n",
       "      <td>16132.12</td>\n",
       "      <td>...</td>\n",
       "      <td>18457.20</td>\n",
       "      <td>10725.64</td>\n",
       "      <td>9319.97</td>\n",
       "      <td>8273.62</td>\n",
       "      <td>10913.95</td>\n",
       "      <td>21561.83</td>\n",
       "      <td>10012.42</td>\n",
       "      <td>22614.08</td>\n",
       "      <td>26339.90</td>\n",
       "      <td>10012.42</td>\n",
       "    </tr>\n",
       "    <tr>\n",
       "      <th>1</th>\n",
       "      <td>3165.94</td>\n",
       "      <td>0.00</td>\n",
       "      <td>5625.76</td>\n",
       "      <td>8749.35</td>\n",
       "      <td>4695.51</td>\n",
       "      <td>16716.96</td>\n",
       "      <td>15274.00</td>\n",
       "      <td>1037.65</td>\n",
       "      <td>2910.29</td>\n",
       "      <td>12966.19</td>\n",
       "      <td>...</td>\n",
       "      <td>17207.37</td>\n",
       "      <td>10422.11</td>\n",
       "      <td>9441.75</td>\n",
       "      <td>8768.21</td>\n",
       "      <td>10565.72</td>\n",
       "      <td>20115.08</td>\n",
       "      <td>9915.24</td>\n",
       "      <td>21118.47</td>\n",
       "      <td>24716.98</td>\n",
       "      <td>9915.24</td>\n",
       "    </tr>\n",
       "    <tr>\n",
       "      <th>2</th>\n",
       "      <td>8731.54</td>\n",
       "      <td>5625.76</td>\n",
       "      <td>0.00</td>\n",
       "      <td>3280.12</td>\n",
       "      <td>1035.65</td>\n",
       "      <td>11465.75</td>\n",
       "      <td>10027.42</td>\n",
       "      <td>6659.59</td>\n",
       "      <td>2905.29</td>\n",
       "      <td>7631.76</td>\n",
       "      <td>...</td>\n",
       "      <td>17666.43</td>\n",
       "      <td>13214.26</td>\n",
       "      <td>12923.52</td>\n",
       "      <td>12756.84</td>\n",
       "      <td>13274.36</td>\n",
       "      <td>19981.55</td>\n",
       "      <td>13057.44</td>\n",
       "      <td>20827.51</td>\n",
       "      <td>23992.78</td>\n",
       "      <td>13057.44</td>\n",
       "    </tr>\n",
       "    <tr>\n",
       "      <th>3</th>\n",
       "      <td>11903.45</td>\n",
       "      <td>8749.35</td>\n",
       "      <td>3280.12</td>\n",
       "      <td>0.00</td>\n",
       "      <td>4315.55</td>\n",
       "      <td>8193.10</td>\n",
       "      <td>6759.32</td>\n",
       "      <td>9761.19</td>\n",
       "      <td>6171.81</td>\n",
       "      <td>4355.25</td>\n",
       "      <td>...</td>\n",
       "      <td>17482.07</td>\n",
       "      <td>14598.81</td>\n",
       "      <td>14683.19</td>\n",
       "      <td>14783.92</td>\n",
       "      <td>14610.97</td>\n",
       "      <td>19351.79</td>\n",
       "      <td>14634.38</td>\n",
       "      <td>20075.57</td>\n",
       "      <td>22897.82</td>\n",
       "      <td>14634.38</td>\n",
       "    </tr>\n",
       "    <tr>\n",
       "      <th>4</th>\n",
       "      <td>7757.18</td>\n",
       "      <td>4695.51</td>\n",
       "      <td>1035.65</td>\n",
       "      <td>4315.55</td>\n",
       "      <td>0.00</td>\n",
       "      <td>12500.86</td>\n",
       "      <td>11062.04</td>\n",
       "      <td>5733.14</td>\n",
       "      <td>1889.16</td>\n",
       "      <td>8667.35</td>\n",
       "      <td>...</td>\n",
       "      <td>17872.58</td>\n",
       "      <td>12942.92</td>\n",
       "      <td>12517.90</td>\n",
       "      <td>12251.20</td>\n",
       "      <td>13019.49</td>\n",
       "      <td>20308.62</td>\n",
       "      <td>12718.08</td>\n",
       "      <td>21186.77</td>\n",
       "      <td>24440.57</td>\n",
       "      <td>12718.08</td>\n",
       "    </tr>\n",
       "    <tr>\n",
       "      <th>...</th>\n",
       "      <td>...</td>\n",
       "      <td>...</td>\n",
       "      <td>...</td>\n",
       "      <td>...</td>\n",
       "      <td>...</td>\n",
       "      <td>...</td>\n",
       "      <td>...</td>\n",
       "      <td>...</td>\n",
       "      <td>...</td>\n",
       "      <td>...</td>\n",
       "      <td>...</td>\n",
       "      <td>...</td>\n",
       "      <td>...</td>\n",
       "      <td>...</td>\n",
       "      <td>...</td>\n",
       "      <td>...</td>\n",
       "      <td>...</td>\n",
       "      <td>...</td>\n",
       "      <td>...</td>\n",
       "      <td>...</td>\n",
       "      <td>...</td>\n",
       "    </tr>\n",
       "    <tr>\n",
       "      <th>223</th>\n",
       "      <td>21561.83</td>\n",
       "      <td>20115.08</td>\n",
       "      <td>19981.55</td>\n",
       "      <td>19351.79</td>\n",
       "      <td>20308.62</td>\n",
       "      <td>19511.11</td>\n",
       "      <td>19071.76</td>\n",
       "      <td>20213.28</td>\n",
       "      <td>20588.91</td>\n",
       "      <td>19083.19</td>\n",
       "      <td>...</td>\n",
       "      <td>3290.11</td>\n",
       "      <td>11723.54</td>\n",
       "      <td>13522.90</td>\n",
       "      <td>14893.28</td>\n",
       "      <td>11497.89</td>\n",
       "      <td>0.00</td>\n",
       "      <td>12631.46</td>\n",
       "      <td>1094.37</td>\n",
       "      <td>4919.10</td>\n",
       "      <td>12631.46</td>\n",
       "    </tr>\n",
       "    <tr>\n",
       "      <th>224</th>\n",
       "      <td>10012.42</td>\n",
       "      <td>9915.24</td>\n",
       "      <td>13057.44</td>\n",
       "      <td>14634.38</td>\n",
       "      <td>12718.08</td>\n",
       "      <td>20016.37</td>\n",
       "      <td>18818.51</td>\n",
       "      <td>9494.37</td>\n",
       "      <td>11861.80</td>\n",
       "      <td>17280.23</td>\n",
       "      <td>...</td>\n",
       "      <td>9344.11</td>\n",
       "      <td>910.65</td>\n",
       "      <td>891.79</td>\n",
       "      <td>2261.85</td>\n",
       "      <td>1136.11</td>\n",
       "      <td>12631.46</td>\n",
       "      <td>0.00</td>\n",
       "      <td>13725.79</td>\n",
       "      <td>17550.36</td>\n",
       "      <td>0.00</td>\n",
       "    </tr>\n",
       "    <tr>\n",
       "      <th>225</th>\n",
       "      <td>22614.08</td>\n",
       "      <td>21118.47</td>\n",
       "      <td>20827.51</td>\n",
       "      <td>20075.57</td>\n",
       "      <td>21186.77</td>\n",
       "      <td>19835.97</td>\n",
       "      <td>19470.62</td>\n",
       "      <td>21237.34</td>\n",
       "      <td>21522.07</td>\n",
       "      <td>19606.70</td>\n",
       "      <td>...</td>\n",
       "      <td>4384.20</td>\n",
       "      <td>12817.80</td>\n",
       "      <td>14617.24</td>\n",
       "      <td>15987.60</td>\n",
       "      <td>12592.15</td>\n",
       "      <td>1094.37</td>\n",
       "      <td>13725.79</td>\n",
       "      <td>0.00</td>\n",
       "      <td>3825.01</td>\n",
       "      <td>13725.79</td>\n",
       "    </tr>\n",
       "    <tr>\n",
       "      <th>226</th>\n",
       "      <td>26339.90</td>\n",
       "      <td>24716.98</td>\n",
       "      <td>23992.78</td>\n",
       "      <td>22897.82</td>\n",
       "      <td>24440.57</td>\n",
       "      <td>21457.04</td>\n",
       "      <td>21329.55</td>\n",
       "      <td>24890.70</td>\n",
       "      <td>24927.73</td>\n",
       "      <td>21843.90</td>\n",
       "      <td>...</td>\n",
       "      <td>8207.13</td>\n",
       "      <td>16642.60</td>\n",
       "      <td>18441.71</td>\n",
       "      <td>19812.20</td>\n",
       "      <td>16416.96</td>\n",
       "      <td>4919.10</td>\n",
       "      <td>17550.36</td>\n",
       "      <td>3825.01</td>\n",
       "      <td>0.00</td>\n",
       "      <td>17550.36</td>\n",
       "    </tr>\n",
       "    <tr>\n",
       "      <th>227</th>\n",
       "      <td>10012.42</td>\n",
       "      <td>9915.24</td>\n",
       "      <td>13057.44</td>\n",
       "      <td>14634.38</td>\n",
       "      <td>12718.08</td>\n",
       "      <td>20016.37</td>\n",
       "      <td>18818.51</td>\n",
       "      <td>9494.37</td>\n",
       "      <td>11861.80</td>\n",
       "      <td>17280.23</td>\n",
       "      <td>...</td>\n",
       "      <td>9344.11</td>\n",
       "      <td>910.65</td>\n",
       "      <td>891.79</td>\n",
       "      <td>2261.85</td>\n",
       "      <td>1136.11</td>\n",
       "      <td>12631.46</td>\n",
       "      <td>0.00</td>\n",
       "      <td>13725.79</td>\n",
       "      <td>17550.36</td>\n",
       "      <td>0.00</td>\n",
       "    </tr>\n",
       "  </tbody>\n",
       "</table>\n",
       "<p>228 rows × 228 columns</p>\n",
       "</div>"
      ],
      "text/plain": [
       "          0         1         2         3         4         5         6    \\\n",
       "0        0.00   3165.94   8731.54  11903.45   7757.18  19878.51  18436.35   \n",
       "1     3165.94      0.00   5625.76   8749.35   4695.51  16716.96  15274.00   \n",
       "2     8731.54   5625.76      0.00   3280.12   1035.65  11465.75  10027.42   \n",
       "3    11903.45   8749.35   3280.12      0.00   4315.55   8193.10   6759.32   \n",
       "4     7757.18   4695.51   1035.65   4315.55      0.00  12500.86  11062.04   \n",
       "..        ...       ...       ...       ...       ...       ...       ...   \n",
       "223  21561.83  20115.08  19981.55  19351.79  20308.62  19511.11  19071.76   \n",
       "224  10012.42   9915.24  13057.44  14634.38  12718.08  20016.37  18818.51   \n",
       "225  22614.08  21118.47  20827.51  20075.57  21186.77  19835.97  19470.62   \n",
       "226  26339.90  24716.98  23992.78  22897.82  24440.57  21457.04  21329.55   \n",
       "227  10012.42   9915.24  13057.44  14634.38  12718.08  20016.37  18818.51   \n",
       "\n",
       "          7         8         9    ...       218       219       220  \\\n",
       "0     2213.47   5887.74  16132.12  ...  18457.20  10725.64   9319.97   \n",
       "1     1037.65   2910.29  12966.19  ...  17207.37  10422.11   9441.75   \n",
       "2     6659.59   2905.29   7631.76  ...  17666.43  13214.26  12923.52   \n",
       "3     9761.19   6171.81   4355.25  ...  17482.07  14598.81  14683.19   \n",
       "4     5733.14   1889.16   8667.35  ...  17872.58  12942.92  12517.90   \n",
       "..        ...       ...       ...  ...       ...       ...       ...   \n",
       "223  20213.28  20588.91  19083.19  ...   3290.11  11723.54  13522.90   \n",
       "224   9494.37  11861.80  17280.23  ...   9344.11    910.65    891.79   \n",
       "225  21237.34  21522.07  19606.70  ...   4384.20  12817.80  14617.24   \n",
       "226  24890.70  24927.73  21843.90  ...   8207.13  16642.60  18441.71   \n",
       "227   9494.37  11861.80  17280.23  ...   9344.11    910.65    891.79   \n",
       "\n",
       "          221       222       223       224       225       226       227  \n",
       "0     8273.62  10913.95  21561.83  10012.42  22614.08  26339.90  10012.42  \n",
       "1     8768.21  10565.72  20115.08   9915.24  21118.47  24716.98   9915.24  \n",
       "2    12756.84  13274.36  19981.55  13057.44  20827.51  23992.78  13057.44  \n",
       "3    14783.92  14610.97  19351.79  14634.38  20075.57  22897.82  14634.38  \n",
       "4    12251.20  13019.49  20308.62  12718.08  21186.77  24440.57  12718.08  \n",
       "..        ...       ...       ...       ...       ...       ...       ...  \n",
       "223  14893.28  11497.89      0.00  12631.46   1094.37   4919.10  12631.46  \n",
       "224   2261.85   1136.11  12631.46      0.00  13725.79  17550.36      0.00  \n",
       "225  15987.60  12592.15   1094.37  13725.79      0.00   3825.01  13725.79  \n",
       "226  19812.20  16416.96   4919.10  17550.36   3825.01      0.00  17550.36  \n",
       "227   2261.85   1136.11  12631.46      0.00  13725.79  17550.36      0.00  \n",
       "\n",
       "[228 rows x 228 columns]"
      ]
     },
     "execution_count": 2,
     "metadata": {},
     "output_type": "execute_result"
    }
   ],
   "source": [
    "# матрица смежност\n",
    "df_w"
   ]
  },
  {
   "cell_type": "code",
   "execution_count": 3,
   "id": "e72b214b-80e5-4c8d-aae3-7aac77029460",
   "metadata": {},
   "outputs": [
    {
     "data": {
      "text/html": [
       "<div>\n",
       "<style scoped>\n",
       "    .dataframe tbody tr th:only-of-type {\n",
       "        vertical-align: middle;\n",
       "    }\n",
       "\n",
       "    .dataframe tbody tr th {\n",
       "        vertical-align: top;\n",
       "    }\n",
       "\n",
       "    .dataframe thead th {\n",
       "        text-align: right;\n",
       "    }\n",
       "</style>\n",
       "<table border=\"1\" class=\"dataframe\">\n",
       "  <thead>\n",
       "    <tr style=\"text-align: right;\">\n",
       "      <th></th>\n",
       "      <th>0</th>\n",
       "      <th>1</th>\n",
       "      <th>2</th>\n",
       "      <th>3</th>\n",
       "      <th>4</th>\n",
       "      <th>5</th>\n",
       "      <th>6</th>\n",
       "      <th>7</th>\n",
       "      <th>8</th>\n",
       "      <th>9</th>\n",
       "      <th>...</th>\n",
       "      <th>218</th>\n",
       "      <th>219</th>\n",
       "      <th>220</th>\n",
       "      <th>221</th>\n",
       "      <th>222</th>\n",
       "      <th>223</th>\n",
       "      <th>224</th>\n",
       "      <th>225</th>\n",
       "      <th>226</th>\n",
       "      <th>227</th>\n",
       "    </tr>\n",
       "  </thead>\n",
       "  <tbody>\n",
       "    <tr>\n",
       "      <th>0</th>\n",
       "      <td>71.1</td>\n",
       "      <td>66.0</td>\n",
       "      <td>64.6</td>\n",
       "      <td>65.6</td>\n",
       "      <td>67.1</td>\n",
       "      <td>71.9</td>\n",
       "      <td>68.6</td>\n",
       "      <td>67.7</td>\n",
       "      <td>65.8</td>\n",
       "      <td>40.9</td>\n",
       "      <td>...</td>\n",
       "      <td>69.1</td>\n",
       "      <td>70.9</td>\n",
       "      <td>65.0</td>\n",
       "      <td>64.5</td>\n",
       "      <td>66.6</td>\n",
       "      <td>66.6</td>\n",
       "      <td>65.0</td>\n",
       "      <td>69.3</td>\n",
       "      <td>67.7</td>\n",
       "      <td>68.9</td>\n",
       "    </tr>\n",
       "    <tr>\n",
       "      <th>1</th>\n",
       "      <td>68.1</td>\n",
       "      <td>66.8</td>\n",
       "      <td>61.7</td>\n",
       "      <td>66.7</td>\n",
       "      <td>64.5</td>\n",
       "      <td>71.6</td>\n",
       "      <td>72.3</td>\n",
       "      <td>64.9</td>\n",
       "      <td>65.6</td>\n",
       "      <td>40.1</td>\n",
       "      <td>...</td>\n",
       "      <td>70.6</td>\n",
       "      <td>65.4</td>\n",
       "      <td>65.0</td>\n",
       "      <td>64.9</td>\n",
       "      <td>65.1</td>\n",
       "      <td>67.7</td>\n",
       "      <td>65.0</td>\n",
       "      <td>67.7</td>\n",
       "      <td>68.8</td>\n",
       "      <td>68.8</td>\n",
       "    </tr>\n",
       "    <tr>\n",
       "      <th>2</th>\n",
       "      <td>68.0</td>\n",
       "      <td>64.3</td>\n",
       "      <td>66.6</td>\n",
       "      <td>68.7</td>\n",
       "      <td>68.1</td>\n",
       "      <td>70.5</td>\n",
       "      <td>70.2</td>\n",
       "      <td>61.7</td>\n",
       "      <td>63.4</td>\n",
       "      <td>39.6</td>\n",
       "      <td>...</td>\n",
       "      <td>72.2</td>\n",
       "      <td>70.5</td>\n",
       "      <td>65.0</td>\n",
       "      <td>64.7</td>\n",
       "      <td>66.7</td>\n",
       "      <td>68.9</td>\n",
       "      <td>65.0</td>\n",
       "      <td>70.2</td>\n",
       "      <td>69.1</td>\n",
       "      <td>68.7</td>\n",
       "    </tr>\n",
       "    <tr>\n",
       "      <th>3</th>\n",
       "      <td>68.3</td>\n",
       "      <td>67.8</td>\n",
       "      <td>65.9</td>\n",
       "      <td>66.6</td>\n",
       "      <td>67.9</td>\n",
       "      <td>70.3</td>\n",
       "      <td>69.8</td>\n",
       "      <td>67.6</td>\n",
       "      <td>63.2</td>\n",
       "      <td>37.6</td>\n",
       "      <td>...</td>\n",
       "      <td>71.2</td>\n",
       "      <td>69.7</td>\n",
       "      <td>65.0</td>\n",
       "      <td>65.2</td>\n",
       "      <td>67.2</td>\n",
       "      <td>66.9</td>\n",
       "      <td>65.0</td>\n",
       "      <td>70.4</td>\n",
       "      <td>67.3</td>\n",
       "      <td>69.0</td>\n",
       "    </tr>\n",
       "    <tr>\n",
       "      <th>4</th>\n",
       "      <td>68.9</td>\n",
       "      <td>69.5</td>\n",
       "      <td>61.2</td>\n",
       "      <td>67.4</td>\n",
       "      <td>64.0</td>\n",
       "      <td>68.1</td>\n",
       "      <td>67.0</td>\n",
       "      <td>66.7</td>\n",
       "      <td>64.2</td>\n",
       "      <td>36.8</td>\n",
       "      <td>...</td>\n",
       "      <td>71.3</td>\n",
       "      <td>65.8</td>\n",
       "      <td>65.0</td>\n",
       "      <td>66.3</td>\n",
       "      <td>66.7</td>\n",
       "      <td>66.2</td>\n",
       "      <td>65.0</td>\n",
       "      <td>68.0</td>\n",
       "      <td>67.4</td>\n",
       "      <td>68.1</td>\n",
       "    </tr>\n",
       "    <tr>\n",
       "      <th>...</th>\n",
       "      <td>...</td>\n",
       "      <td>...</td>\n",
       "      <td>...</td>\n",
       "      <td>...</td>\n",
       "      <td>...</td>\n",
       "      <td>...</td>\n",
       "      <td>...</td>\n",
       "      <td>...</td>\n",
       "      <td>...</td>\n",
       "      <td>...</td>\n",
       "      <td>...</td>\n",
       "      <td>...</td>\n",
       "      <td>...</td>\n",
       "      <td>...</td>\n",
       "      <td>...</td>\n",
       "      <td>...</td>\n",
       "      <td>...</td>\n",
       "      <td>...</td>\n",
       "      <td>...</td>\n",
       "      <td>...</td>\n",
       "      <td>...</td>\n",
       "    </tr>\n",
       "    <tr>\n",
       "      <th>12667</th>\n",
       "      <td>70.3</td>\n",
       "      <td>65.9</td>\n",
       "      <td>70.2</td>\n",
       "      <td>62.1</td>\n",
       "      <td>66.8</td>\n",
       "      <td>66.0</td>\n",
       "      <td>64.0</td>\n",
       "      <td>64.8</td>\n",
       "      <td>24.6</td>\n",
       "      <td>66.5</td>\n",
       "      <td>...</td>\n",
       "      <td>66.0</td>\n",
       "      <td>55.6</td>\n",
       "      <td>29.9</td>\n",
       "      <td>63.8</td>\n",
       "      <td>64.5</td>\n",
       "      <td>62.8</td>\n",
       "      <td>3.8</td>\n",
       "      <td>70.2</td>\n",
       "      <td>68.1</td>\n",
       "      <td>19.3</td>\n",
       "    </tr>\n",
       "    <tr>\n",
       "      <th>12668</th>\n",
       "      <td>69.9</td>\n",
       "      <td>54.0</td>\n",
       "      <td>68.2</td>\n",
       "      <td>62.2</td>\n",
       "      <td>67.4</td>\n",
       "      <td>65.8</td>\n",
       "      <td>64.4</td>\n",
       "      <td>61.3</td>\n",
       "      <td>35.1</td>\n",
       "      <td>69.2</td>\n",
       "      <td>...</td>\n",
       "      <td>66.8</td>\n",
       "      <td>62.8</td>\n",
       "      <td>29.9</td>\n",
       "      <td>62.9</td>\n",
       "      <td>66.6</td>\n",
       "      <td>63.0</td>\n",
       "      <td>3.5</td>\n",
       "      <td>68.2</td>\n",
       "      <td>68.3</td>\n",
       "      <td>18.9</td>\n",
       "    </tr>\n",
       "    <tr>\n",
       "      <th>12669</th>\n",
       "      <td>68.9</td>\n",
       "      <td>37.9</td>\n",
       "      <td>68.8</td>\n",
       "      <td>66.3</td>\n",
       "      <td>69.4</td>\n",
       "      <td>66.6</td>\n",
       "      <td>65.0</td>\n",
       "      <td>60.1</td>\n",
       "      <td>38.5</td>\n",
       "      <td>68.7</td>\n",
       "      <td>...</td>\n",
       "      <td>66.4</td>\n",
       "      <td>65.4</td>\n",
       "      <td>29.9</td>\n",
       "      <td>66.3</td>\n",
       "      <td>68.1</td>\n",
       "      <td>62.6</td>\n",
       "      <td>3.5</td>\n",
       "      <td>68.7</td>\n",
       "      <td>67.5</td>\n",
       "      <td>19.7</td>\n",
       "    </tr>\n",
       "    <tr>\n",
       "      <th>12670</th>\n",
       "      <td>69.2</td>\n",
       "      <td>37.8</td>\n",
       "      <td>68.7</td>\n",
       "      <td>63.6</td>\n",
       "      <td>68.5</td>\n",
       "      <td>66.2</td>\n",
       "      <td>64.1</td>\n",
       "      <td>60.9</td>\n",
       "      <td>40.5</td>\n",
       "      <td>68.5</td>\n",
       "      <td>...</td>\n",
       "      <td>67.6</td>\n",
       "      <td>68.9</td>\n",
       "      <td>30.2</td>\n",
       "      <td>64.8</td>\n",
       "      <td>68.2</td>\n",
       "      <td>63.1</td>\n",
       "      <td>3.7</td>\n",
       "      <td>67.7</td>\n",
       "      <td>67.4</td>\n",
       "      <td>19.5</td>\n",
       "    </tr>\n",
       "    <tr>\n",
       "      <th>12671</th>\n",
       "      <td>68.6</td>\n",
       "      <td>52.9</td>\n",
       "      <td>68.6</td>\n",
       "      <td>65.5</td>\n",
       "      <td>69.3</td>\n",
       "      <td>66.1</td>\n",
       "      <td>64.1</td>\n",
       "      <td>63.5</td>\n",
       "      <td>43.6</td>\n",
       "      <td>58.6</td>\n",
       "      <td>...</td>\n",
       "      <td>66.6</td>\n",
       "      <td>68.3</td>\n",
       "      <td>30.5</td>\n",
       "      <td>64.7</td>\n",
       "      <td>69.1</td>\n",
       "      <td>61.8</td>\n",
       "      <td>4.0</td>\n",
       "      <td>68.1</td>\n",
       "      <td>68.5</td>\n",
       "      <td>19.1</td>\n",
       "    </tr>\n",
       "  </tbody>\n",
       "</table>\n",
       "<p>12672 rows × 228 columns</p>\n",
       "</div>"
      ],
      "text/plain": [
       "        0     1     2     3     4     5     6     7     8     9    ...   218  \\\n",
       "0      71.1  66.0  64.6  65.6  67.1  71.9  68.6  67.7  65.8  40.9  ...  69.1   \n",
       "1      68.1  66.8  61.7  66.7  64.5  71.6  72.3  64.9  65.6  40.1  ...  70.6   \n",
       "2      68.0  64.3  66.6  68.7  68.1  70.5  70.2  61.7  63.4  39.6  ...  72.2   \n",
       "3      68.3  67.8  65.9  66.6  67.9  70.3  69.8  67.6  63.2  37.6  ...  71.2   \n",
       "4      68.9  69.5  61.2  67.4  64.0  68.1  67.0  66.7  64.2  36.8  ...  71.3   \n",
       "...     ...   ...   ...   ...   ...   ...   ...   ...   ...   ...  ...   ...   \n",
       "12667  70.3  65.9  70.2  62.1  66.8  66.0  64.0  64.8  24.6  66.5  ...  66.0   \n",
       "12668  69.9  54.0  68.2  62.2  67.4  65.8  64.4  61.3  35.1  69.2  ...  66.8   \n",
       "12669  68.9  37.9  68.8  66.3  69.4  66.6  65.0  60.1  38.5  68.7  ...  66.4   \n",
       "12670  69.2  37.8  68.7  63.6  68.5  66.2  64.1  60.9  40.5  68.5  ...  67.6   \n",
       "12671  68.6  52.9  68.6  65.5  69.3  66.1  64.1  63.5  43.6  58.6  ...  66.6   \n",
       "\n",
       "        219   220   221   222   223   224   225   226   227  \n",
       "0      70.9  65.0  64.5  66.6  66.6  65.0  69.3  67.7  68.9  \n",
       "1      65.4  65.0  64.9  65.1  67.7  65.0  67.7  68.8  68.8  \n",
       "2      70.5  65.0  64.7  66.7  68.9  65.0  70.2  69.1  68.7  \n",
       "3      69.7  65.0  65.2  67.2  66.9  65.0  70.4  67.3  69.0  \n",
       "4      65.8  65.0  66.3  66.7  66.2  65.0  68.0  67.4  68.1  \n",
       "...     ...   ...   ...   ...   ...   ...   ...   ...   ...  \n",
       "12667  55.6  29.9  63.8  64.5  62.8   3.8  70.2  68.1  19.3  \n",
       "12668  62.8  29.9  62.9  66.6  63.0   3.5  68.2  68.3  18.9  \n",
       "12669  65.4  29.9  66.3  68.1  62.6   3.5  68.7  67.5  19.7  \n",
       "12670  68.9  30.2  64.8  68.2  63.1   3.7  67.7  67.4  19.5  \n",
       "12671  68.3  30.5  64.7  69.1  61.8   4.0  68.1  68.5  19.1  \n",
       "\n",
       "[12672 rows x 228 columns]"
      ]
     },
     "execution_count": 3,
     "metadata": {},
     "output_type": "execute_result"
    }
   ],
   "source": [
    "# Значения скорости движения (возможно, средняя скорость на участке дороги) в каждом временном интервале.\n",
    "df_v"
   ]
  },
  {
   "cell_type": "code",
   "execution_count": null,
   "id": "9c02e8ab-8637-4501-bd4f-157406db2b99",
   "metadata": {},
   "outputs": [],
   "source": []
  },
  {
   "cell_type": "code",
   "execution_count": null,
   "id": "061144ed-a6d0-4003-b664-0959c367a390",
   "metadata": {},
   "outputs": [],
   "source": []
  },
  {
   "cell_type": "markdown",
   "id": "df155f33-aa77-427b-a205-ff5149e63a7d",
   "metadata": {},
   "source": [
    "## DataLoader"
   ]
  },
  {
   "cell_type": "code",
   "execution_count": 4,
   "id": "1555b94e-e733-433c-803b-4a3031065436",
   "metadata": {},
   "outputs": [
    {
     "name": "stderr",
     "output_type": "stream",
     "text": [
      "/mnt/tank/scratch/rgurtsiev/miniconda3/envs/my_env/lib/python3.10/site-packages/torch_geometric/typing.py:86: UserWarning: An issue occurred while importing 'torch-scatter'. Disabling its usage. Stacktrace: /mnt/tank/scratch/rgurtsiev/miniconda3/envs/my_env/lib/python3.10/site-packages/torch_scatter/_version_cuda.so: undefined symbol: _ZN3c1017RegisterOperatorsD1Ev\n",
      "  warnings.warn(f\"An issue occurred while importing 'torch-scatter'. \"\n"
     ]
    }
   ],
   "source": [
    "import torch\n",
    "import numpy as np\n",
    "import pandas as pd\n",
    "import os\n",
    "from torch_geometric.data import InMemoryDataset, Data\n",
    "from shutil import copyfile"
   ]
  },
  {
   "cell_type": "code",
   "execution_count": 5,
   "id": "9703f0a7-2174-46ea-842c-ff6d7505d38f",
   "metadata": {},
   "outputs": [],
   "source": [
    "def distance_to_weight(W, sigma2=0.1, epsilon=0.5, gat_version=False):\n",
    "    \"\"\"\n",
    "    Будем использовать Ядро Гаусса для получения весов ребр: где ближе — больше вес, дальше — вес близок к нулю.\n",
    "    \"\"\"\n",
    "    n = W.shape[0]\n",
    "    W = W / 10000.\n",
    "    W2, W_mask = W * W, np.ones([n, n]) - np.identity(n)\n",
    "    W = np.exp(-W2 / sigma2) * (np.exp(-W2 / sigma2) >= epsilon) * W_mask\n",
    "    \n",
    "    if gat_version: # само внимание\n",
    "        W[W>0] = 1\n",
    "        W += np.identity(n)\n",
    "\n",
    "    return W\n",
    "\n",
    "\n",
    "class TrafficDataset(InMemoryDataset):\n",
    "    \"\"\"\n",
    "    Класс для создания датасета на тему Traffic\n",
    "    \"\"\"\n",
    "    def __init__(self, config, W, root='', transform=None, pre_transform=None):\n",
    "        self.config = config\n",
    "        self.W = W\n",
    "        super().__init__(root, transform, pre_transform)\n",
    "        self.data, self.slices, self.n_node, self.mean, self.std_dev = torch.load(self.processed_paths[0], weights_only=False)\n",
    "\n",
    "    @property\n",
    "    def raw_file_names(self):\n",
    "        return [os.path.join(self.raw_dir, 'PeMSD7_V_228.csv')]\n",
    "\n",
    "    @property\n",
    "    def processed_file_names(self):\n",
    "        return ['./data.pt']\n",
    "\n",
    "    def download(self):\n",
    "        copyfile('./dataset/PeMSD7_V_228.csv', os.path.join(self.raw_dir, 'PeMSD7_V_228.csv'))\n",
    "\n",
    "    def process(self):\n",
    "        \"\"\"\n",
    "        Обработка сырых данных с дальнейшим сохранением        \n",
    "        \"\"\"\n",
    "\n",
    "        data = pd.read_csv(self.raw_file_names[0], header=None).values\n",
    "        mean =  np.mean(data)\n",
    "        std_dev = np.std(data)\n",
    "        data = z_score(data, np.mean(data), np.std(data))\n",
    "\n",
    "        _, n_node = data.shape\n",
    "\n",
    "        # формируем контекстное окно на основе длины предсказанного окна и подаваймого\n",
    "        n_window = self.config['N_PRED'] + self.config['N_HIST']\n",
    "\n",
    "        # создаем матрицу связи между узлами\n",
    "        edge_index = torch.zeros((2, n_node**2), dtype=torch.long)\n",
    "        \n",
    "        # создаем веса для узлов\n",
    "        edge_attr = torch.zeros((n_node**2, 1))\n",
    "        \n",
    "        num_edges = 0\n",
    "        for i in range(n_node):\n",
    "            for j in range(n_node):\n",
    "                if self.W[i, j] != 0.:\n",
    "                    edge_index[0, num_edges] = i\n",
    "                    edge_index[1, num_edges] = j\n",
    "                    edge_attr[num_edges] = self.W[i, j]\n",
    "                    num_edges += 1\n",
    "        \n",
    "        # изменим кол. cell узлов\n",
    "        edge_index = edge_index[:, :num_edges]\n",
    "        edge_attr = edge_attr[:num_edges]\n",
    "\n",
    "        sequences = []\n",
    "        # T x F x N\n",
    "        # Рассчитываем кол. слотов(N_SLOT), \n",
    "        # которые могут быть созданы в объеме данных за каждый день\n",
    "        for i in range(self.config['N_DAYS']):\n",
    "            for j in range(self.config['N_SLOT']):\n",
    "                # for each time point construct a different graph with data object\n",
    "                # Docs here: https://pytorch-geometric.readthedocs.io/en/latest/modules/data.html#torch_geometric.data.Data\n",
    "                g = Data()\n",
    "                g.__num_nodes__ = n_node\n",
    "\n",
    "                g.edge_index = edge_index\n",
    "                g.edge_attr  = edge_attr\n",
    "\n",
    "                # (F,N) switched to (N,F)\n",
    "                start = i * self.config['N_DAY_SLOT'] + j\n",
    "                end = start + n_window\n",
    "                # [21, 228]\n",
    "                \n",
    "                # меняем 1 и 2 оси\n",
    "                full_window = np.swapaxes(data[start:end, :], 0, 1)\n",
    "                g.x = torch.FloatTensor(full_window[:, 0:self.config['N_HIST']])\n",
    "                g.y = torch.FloatTensor(full_window[:, self.config['N_HIST']::])\n",
    "                sequences += [g]\n",
    "\n",
    "        data, slices = self.collate(sequences)\n",
    "        torch.save((data, slices, n_node, mean, std_dev), self.processed_paths[0])"
   ]
  },
  {
   "cell_type": "code",
   "execution_count": null,
   "id": "f43ae8c5-6e49-4f87-a8c0-fc9c53575694",
   "metadata": {},
   "outputs": [],
   "source": []
  },
  {
   "cell_type": "code",
   "execution_count": 6,
   "id": "527f6cf6-b069-4855-954c-9db8d384f2a2",
   "metadata": {},
   "outputs": [],
   "source": [
    "config = {\n",
    "        'BATCH_SIZE': 50,\n",
    "        'EPOCHS': 200,\n",
    "        'WEIGHT_DECAY': 5e-5,\n",
    "        'INITIAL_LR': 3e-4,\n",
    "        'CHECKPOINT_DIR': './gnn-run',\n",
    "        'N_PRED': 9,\n",
    "        'N_HIST': 12,\n",
    "        'DROPOUT': 0.2,\n",
    "        'N_DAY_SLOT': 288,        \n",
    "        'N_DAYS': 44,\n",
    "        'USE_GAT_WEIGHTS': True,\n",
    "        'N_NODE': 228,\n",
    "    }\n",
    "config['N_SLOT']= config['N_DAY_SLOT'] - (config['N_PRED']+config['N_HIST']) + 1\n",
    "\n",
    "W = distance_to_weight(df_w.values, gat_version=config['USE_GAT_WEIGHTS'])\n",
    "dataset = TrafficDataset(config, W)"
   ]
  },
  {
   "cell_type": "code",
   "execution_count": 7,
   "id": "5ece12c0-739c-41b9-ae20-d07eada4241b",
   "metadata": {},
   "outputs": [],
   "source": [
    "from torch_geometric.loader import DataLoader\n",
    "import torch.nn as nn\n",
    "\n",
    "\n",
    "def get_splits(dataset: TrafficDataset, n_slot, splits):\n",
    "    \"\"\"\n",
    "    Получаем train, val, test выборки\n",
    "    \"\"\"\n",
    "    split_train, split_val, _ = splits\n",
    "    i = n_slot*split_train\n",
    "    j = n_slot*split_val\n",
    "    train = dataset[:i]\n",
    "    val = dataset[i:i+j]\n",
    "    test = dataset[i+j:]\n",
    "\n",
    "    return train, val, test\n",
    "\n",
    "\n",
    "train, val, test = get_splits(dataset, config['N_SLOT'], (34, 5, 5))\n",
    "train_dataloader = DataLoader(train, batch_size=config['BATCH_SIZE'], shuffle=True)\n",
    "val_dataloader = DataLoader(val, batch_size=config['BATCH_SIZE'], shuffle=True)\n",
    "test_dataloader = DataLoader(test, batch_size=config['BATCH_SIZE'], shuffle=False)"
   ]
  },
  {
   "cell_type": "code",
   "execution_count": 8,
   "id": "9cec6530-ec59-480a-99d1-f321e4d32c45",
   "metadata": {},
   "outputs": [
    {
     "data": {
      "text/plain": [
       "DataBatch(edge_index=[2, 94600], edge_attr=[94600, 1], x=[11400, 12], y=[11400, 9], batch=[11400], ptr=[51])"
      ]
     },
     "execution_count": 8,
     "metadata": {},
     "output_type": "execute_result"
    }
   ],
   "source": [
    "data = next(iter(train_dataloader))\n",
    "data"
   ]
  },
  {
   "cell_type": "code",
   "execution_count": null,
   "id": "d0acc3c4-c902-4a51-a679-9248b2eb622a",
   "metadata": {},
   "outputs": [],
   "source": []
  },
  {
   "cell_type": "code",
   "execution_count": null,
   "id": "23d6d133-aa17-44a4-baad-e120fbc7c59d",
   "metadata": {},
   "outputs": [],
   "source": []
  },
  {
   "cell_type": "markdown",
   "id": "ebd9d108-6eec-4b8f-b723-b0f3342d0e43",
   "metadata": {},
   "source": [
    "# Model"
   ]
  },
  {
   "cell_type": "code",
   "execution_count": 9,
   "id": "e46ea328-08fc-49e1-aacb-daa5526e2efa",
   "metadata": {},
   "outputs": [],
   "source": [
    "from torch_geometric.nn import GATConv\n",
    "\n",
    "\n",
    "class ST_GAT(nn.Module):\n",
    "    def __init__(\n",
    "        self,\n",
    "        in_channels,\n",
    "        out_channels,\n",
    "        n_nodes,\n",
    "        heads=9,\n",
    "        dropout=0.0\n",
    "    ):\n",
    "        super(ST_GAT, self).__init__()\n",
    "\n",
    "        self.n_pred = out_channels\n",
    "        self.heads = heads\n",
    "        self.dropout = dropout\n",
    "        self.n_nodes = n_nodes\n",
    "\n",
    "        self.preds = 9\n",
    "        lstm1_hidden_size = 32\n",
    "        lstm2_hidden_size = 128\n",
    "\n",
    "        self.gat = GATConv(in_channels=in_channels, out_channels=in_channels, heads=heads, dropout=0, concat=False)\n",
    "        \n",
    "        self.lstm1 = torch.nn.LSTM(input_size=self.n_nodes, hidden_size=lstm1_hidden_size, num_layers=1)\n",
    "        for name, param in self.lstm1.named_parameters():\n",
    "            if 'bias' in name:\n",
    "                torch.nn.init.constant_(param, 0.0)\n",
    "            elif 'weight' in name:\n",
    "                torch.nn.init.xavier_uniform_(param)\n",
    "                \n",
    "        self.lstm2 = torch.nn.LSTM(input_size=lstm1_hidden_size, hidden_size=lstm2_hidden_size, num_layers=1)\n",
    "        for name, param in self.lstm1.named_parameters():\n",
    "            if 'bias' in name:\n",
    "                torch.nn.init.constant_(param, 0.0)\n",
    "            elif 'weight' in name:\n",
    "                torch.nn.init.xavier_uniform_(param)\n",
    "\n",
    "        self.linear = torch.nn.Linear(lstm2_hidden_size, self.n_nodes*self.n_pred)\n",
    "        torch.nn.init.xavier_uniform_(self.linear.weight)\n",
    "\n",
    "\n",
    "    def forward(self, data, device):\n",
    "        x, edge_index = data.x, data.edge_index\n",
    "        \n",
    "        x = torch.cuda.FloatTensor(x)\n",
    "        x = self.gat(x, edge_index)\n",
    "        x = F.dropout(x, self.dropout, training=self.training)\n",
    "\n",
    "        # [batchsize*n_nodes, seq_length] -> [batch_size, n_nodes, seq_length]\n",
    "        batch_size = data.num_graphs\n",
    "        n_node = int(data.num_nodes/batch_size)\n",
    "        x = torch.reshape(x, (batch_size, n_node, data.num_features))\n",
    "        \n",
    "        # sequence length = 12, batch_size = 50, n_node = 228\n",
    "        x = torch.movedim(x, 2, 0)\n",
    "        # [12, 50, 228] -> [12, 50, 32]\n",
    "        x, _ = self.lstm1(x)\n",
    "        # [12, 50, 32] -> [12, 50, 128]\n",
    "        x, _ = self.lstm2(x)\n",
    "\n",
    "        # [12, 50, 128] -> [50, 128]\n",
    "        x = torch.squeeze(x[-1, :, :])\n",
    "        # [50, 128] -> [50, 228*9]\n",
    "        x = self.linear(x)\n",
    "\n",
    "        # Now reshape into final output\n",
    "        s = x.shape\n",
    "        # [50, 228*9] -> [50, 228, 9]\n",
    "        x = torch.reshape(x, (s[0], self.n_nodes, self.n_pred))\n",
    "        # [50, 228, 9] ->  [11400, 9]\n",
    "        x = torch.reshape(x, (s[0]*self.n_nodes, self.n_pred))\n",
    "        return x"
   ]
  },
  {
   "cell_type": "code",
   "execution_count": null,
   "id": "f4566b13-ce8f-4b5d-853f-899659c2ab1e",
   "metadata": {},
   "outputs": [],
   "source": []
  },
  {
   "cell_type": "markdown",
   "id": "0be9faa3-a6d0-4dac-aec2-c68d1a55db6b",
   "metadata": {},
   "source": [
    "# Train"
   ]
  },
  {
   "cell_type": "code",
   "execution_count": 10,
   "id": "a36a6c8a-9b62-4e55-b6c6-8e2561271521",
   "metadata": {},
   "outputs": [
    {
     "name": "stderr",
     "output_type": "stream",
     "text": [
      "Failed to detect the name of this notebook, you can set it manually with the WANDB_NOTEBOOK_NAME environment variable to enable code saving.\n",
      "\u001b[34m\u001b[1mwandb\u001b[0m: Using wandb-core as the SDK backend.  Please refer to https://wandb.me/wandb-core for more information.\n",
      "\u001b[34m\u001b[1mwandb\u001b[0m: Currently logged in as: \u001b[33mvilovnok\u001b[0m. Use \u001b[1m`wandb login --relogin`\u001b[0m to force relogin\n"
     ]
    },
    {
     "data": {
      "text/html": [
       "Tracking run with wandb version 0.18.7"
      ],
      "text/plain": [
       "<IPython.core.display.HTML object>"
      ]
     },
     "metadata": {},
     "output_type": "display_data"
    },
    {
     "data": {
      "text/html": [
       "Run data is saved locally in <code>/mnt/tank/scratch/rgurtsiev/workflow/wandb/run-20250714_223523-dl344svv</code>"
      ],
      "text/plain": [
       "<IPython.core.display.HTML object>"
      ]
     },
     "metadata": {},
     "output_type": "display_data"
    },
    {
     "data": {
      "text/html": [
       "Syncing run <strong><a href='https://wandb.ai/r1char9/ST-GAT/runs/dl344svv' target=\"_blank\">balmy-armadillo-5</a></strong> to <a href='https://wandb.ai/r1char9/ST-GAT' target=\"_blank\">Weights & Biases</a> (<a href='https://wandb.me/developer-guide' target=\"_blank\">docs</a>)<br/>"
      ],
      "text/plain": [
       "<IPython.core.display.HTML object>"
      ]
     },
     "metadata": {},
     "output_type": "display_data"
    },
    {
     "data": {
      "text/html": [
       " View project at <a href='https://wandb.ai/r1char9/ST-GAT' target=\"_blank\">https://wandb.ai/r1char9/ST-GAT</a>"
      ],
      "text/plain": [
       "<IPython.core.display.HTML object>"
      ]
     },
     "metadata": {},
     "output_type": "display_data"
    },
    {
     "data": {
      "text/html": [
       " View run at <a href='https://wandb.ai/r1char9/ST-GAT/runs/dl344svv' target=\"_blank\">https://wandb.ai/r1char9/ST-GAT/runs/dl344svv</a>"
      ],
      "text/plain": [
       "<IPython.core.display.HTML object>"
      ]
     },
     "metadata": {},
     "output_type": "display_data"
    }
   ],
   "source": [
    "import torch\n",
    "import torch.optim as optim\n",
    "from tqdm import tqdm\n",
    "import time\n",
    "import os\n",
    "import matplotlib.pyplot as plt\n",
    "import wandb \n",
    "\n",
    "\n",
    "wandb.init(project=\"ST-GAT\", config={\n",
    "    \"model\": \"ST_GAT\"\n",
    "})\n",
    "\n",
    "def z_score(x, mean, std):\n",
    "    return (x - mean) / std\n",
    "\n",
    "def un_z_score(x_normed, mean, std):\n",
    "    return x_normed * std  + mean\n",
    "\n",
    "def MAPE(v, v_):\n",
    "    return torch.mean(torch.abs((v_ - v)) /(v + 1e-15) * 100)\n",
    "\n",
    "def RMSE(v, v_):\n",
    "    return torch.sqrt(torch.mean((v_ - v) ** 2))\n",
    "\n",
    "def MAE(v, v_):\n",
    "    return torch.mean(torch.abs(v_ - v))\n",
    "\n",
    "@torch.no_grad()\n",
    "def eval(model, device, dataloader, type=''):\n",
    "    model.eval()\n",
    "    model.to(device)\n",
    "\n",
    "    mae = 0\n",
    "    rmse = 0\n",
    "    mape = 0\n",
    "    n = 0\n",
    "\n",
    "    for i, batch in enumerate(dataloader):\n",
    "        batch = batch.to(device)\n",
    "        if batch.x.shape[0] == 1:\n",
    "            continue\n",
    "\n",
    "        with torch.no_grad():\n",
    "            pred = model(batch, device)\n",
    "\n",
    "        truth = batch.y.view(pred.shape)\n",
    "\n",
    "        if i == 0:\n",
    "            y_pred = torch.zeros(len(dataloader), pred.shape[0], pred.shape[1])\n",
    "            y_truth = torch.zeros(len(dataloader), pred.shape[0], pred.shape[1])\n",
    "\n",
    "        truth = un_z_score(truth, dataloader.dataset.mean, dataloader.dataset.std_dev)\n",
    "        pred = un_z_score(pred, dataloader.dataset.mean, dataloader.dataset.std_dev)\n",
    "\n",
    "        y_pred[i, :pred.shape[0], :] = pred\n",
    "        y_truth[i, :pred.shape[0], :] = truth\n",
    "\n",
    "        rmse += RMSE(truth, pred)\n",
    "        mae += MAE(truth, pred)\n",
    "        mape += MAPE(truth, pred)\n",
    "        n += 1\n",
    "\n",
    "    rmse, mae, mape = rmse / n, mae / n, mape / n\n",
    "\n",
    "    print(f'{type}, MAE: {mae:.4f}, RMSE: {rmse:.4f}, MAPE: {mape:.4f}')\n",
    "    return rmse, mae, mape, y_pred, y_truth\n",
    "\n",
    "def train(model, device, dataloader, optimizer, loss_fn, epoch):\n",
    "    model.train()\n",
    "    for _, batch in enumerate(tqdm(dataloader, desc=f\"Epoch {epoch}\")):\n",
    "        batch = batch.to(device)\n",
    "        optimizer.zero_grad()\n",
    "        y_pred = torch.squeeze(model(batch, device))\n",
    "        loss = loss_fn()(y_pred.float(), torch.squeeze(batch.y).float())\n",
    "        loss.backward()\n",
    "        optimizer.step()\n",
    "\n",
    "    wandb.log({\"Loss/train\": loss.item()}, step=epoch)\n",
    "    return loss\n",
    "\n",
    "def model_train(train_dataloader, val_dataloader, config, device):\n",
    "    model = ST_GAT(\n",
    "        in_channels=config['N_HIST'],\n",
    "        out_channels=config['N_PRED'],\n",
    "        n_nodes=config['N_NODE'],\n",
    "        dropout=config['DROPOUT']\n",
    "    )\n",
    "\n",
    "    optimizer = optim.Adam(model.parameters(), lr=config['INITIAL_LR'], weight_decay=config['WEIGHT_DECAY'])\n",
    "    loss_fn = torch.nn.MSELoss\n",
    "\n",
    "    model.to(device)\n",
    "\n",
    "    for epoch in range(config['EPOCHS']):\n",
    "        loss = train(model, device, train_dataloader, optimizer, loss_fn, epoch)\n",
    "        print(f\"Loss: {loss:.3f}\")\n",
    "\n",
    "        if epoch % 5 == 0:\n",
    "            train_mae, train_rmse, train_mape, _, _ = eval(model, device, train_dataloader, 'Train')\n",
    "            val_mae, val_rmse, val_mape, _, _ = eval(model, device, val_dataloader, 'Valid')\n",
    "\n",
    "            wandb.log({\n",
    "                \"MAE/train\": train_mae,\n",
    "                \"RMSE/train\": train_rmse,\n",
    "                \"MAPE/train\": train_mape,\n",
    "                \"MAE/val\": val_mae,\n",
    "                \"RMSE/val\": val_rmse,\n",
    "                \"MAPE/val\": val_mape\n",
    "            }, step=epoch)\n",
    "\n",
    "    timestr = time.strftime(\"%m-%d-%H%M%S\")\n",
    "    model_path = os.path.join(config[\"CHECKPOINT_DIR\"], f\"model_{timestr}.pt\")\n",
    "    torch.save({\n",
    "        \"epoch\": epoch,\n",
    "        \"model_state_dict\": model.state_dict(),\n",
    "        \"optimizer_state_dict\": optimizer.state_dict(),\n",
    "        \"loss\": loss,\n",
    "    }, model_path)\n",
    "\n",
    "    wandb.save(model_path)\n",
    "    return model\n",
    "\n",
    "def model_test(model, test_dataloader, device, config):\n",
    "    _, _, _, y_pred, y_truth = eval(model, device, test_dataloader, 'Test')\n",
    "    plot_prediction(test_dataloader, y_pred, y_truth, 0, config)\n",
    "\n",
    "def plot_prediction(test_dataloader, y_pred, y_truth, node, config):\n",
    "    s = y_truth.shape\n",
    "    y_truth = y_truth.reshape(s[0], config['BATCH_SIZE'], config['N_NODE'], s[-1])\n",
    "    y_truth = y_truth[:, :, node, 0]\n",
    "    y_truth = torch.flatten(y_truth)\n",
    "    day0_truth = y_truth[:config['N_SLOT']]\n",
    "\n",
    "    s = y_pred.shape\n",
    "    y_pred = y_pred.reshape(s[0], config['BATCH_SIZE'], config['N_NODE'], s[-1])\n",
    "    y_pred = y_pred[:, :, node, 0]\n",
    "    y_pred = torch.flatten(y_pred)\n",
    "    day0_pred = y_pred[:config['N_SLOT']]\n",
    "\n",
    "    t = [t for t in range(0, config['N_SLOT']*5, 5)]\n",
    "    plt.plot(t, day0_pred, label='ST-GAT')\n",
    "    plt.plot(t, day0_truth, label='truth')\n",
    "    plt.xlabel('Time (minutes)')\n",
    "    plt.ylabel('Speed prediction')\n",
    "    plt.title('Predictions of traffic over time')\n",
    "    plt.legend()\n",
    "    plt.savefig('predicted_times.png')\n",
    "    plt.show()\n",
    "    wandb.log({\"prediction_plot\": wandb.Image(\"predicted_times.png\")})  # Log plot to wandb\n",
    "\n",
    "def load_from_checkpoint(checkpoint_path, config):\n",
    "    model = ST_GAT(in_channels=config['N_HIST'], out_channels=config['N_PRED'], n_nodes=config['N_NODE'])\n",
    "    checkpoint = torch.load(checkpoint_path, map_location=torch.device('cpu'))\n",
    "    model.load_state_dict(checkpoint['model_state_dict'])\n",
    "    return model"
   ]
  },
  {
   "cell_type": "code",
   "execution_count": 11,
   "id": "d2ec19f3-9af7-43e6-b492-ece0ee97437f",
   "metadata": {},
   "outputs": [
    {
     "name": "stderr",
     "output_type": "stream",
     "text": [
      "Epoch 0:   0%|                                                                                                                       | 0/183 [00:00<?, ?it/s]/tmp/ipykernel_1722855/1888910789.py:47: UserWarning: The torch.cuda.*DtypeTensor constructors are no longer recommended. It's best to use methods such as torch.tensor(data, dtype=*, device='cuda') to create tensors. (Triggered internally at /pytorch/torch/csrc/tensor/python_tensor.cpp:78.)\n",
      "  x = torch.cuda.FloatTensor(x)\n",
      "Epoch 0: 100%|█████████████████████████████████████████████████████████████████████████████████████████████████████████████| 183/183 [00:02<00:00, 88.23it/s]\n"
     ]
    },
    {
     "name": "stdout",
     "output_type": "stream",
     "text": [
      "Loss: 0.191\n",
      "Train, MAE: 4.8492, RMSE: 7.7622, MAPE: 12.4675\n",
      "Valid, MAE: 4.8278, RMSE: 7.6498, MAPE: 12.4058\n"
     ]
    },
    {
     "name": "stderr",
     "output_type": "stream",
     "text": [
      "Epoch 1: 100%|████████████████████████████████████████████████████████████████████████████████████████████████████████████| 183/183 [00:01<00:00, 163.02it/s]\n"
     ]
    },
    {
     "name": "stdout",
     "output_type": "stream",
     "text": [
      "Loss: 0.359\n"
     ]
    },
    {
     "name": "stderr",
     "output_type": "stream",
     "text": [
      "Epoch 2: 100%|████████████████████████████████████████████████████████████████████████████████████████████████████████████| 183/183 [00:01<00:00, 163.34it/s]\n"
     ]
    },
    {
     "name": "stdout",
     "output_type": "stream",
     "text": [
      "Loss: 0.318\n"
     ]
    },
    {
     "name": "stderr",
     "output_type": "stream",
     "text": [
      "Epoch 3: 100%|████████████████████████████████████████████████████████████████████████████████████████████████████████████| 183/183 [00:01<00:00, 164.19it/s]\n"
     ]
    },
    {
     "name": "stdout",
     "output_type": "stream",
     "text": [
      "Loss: 0.238\n"
     ]
    },
    {
     "name": "stderr",
     "output_type": "stream",
     "text": [
      "Epoch 4: 100%|████████████████████████████████████████████████████████████████████████████████████████████████████████████| 183/183 [00:01<00:00, 164.21it/s]\n"
     ]
    },
    {
     "name": "stdout",
     "output_type": "stream",
     "text": [
      "Loss: 0.197\n"
     ]
    },
    {
     "name": "stderr",
     "output_type": "stream",
     "text": [
      "Epoch 5: 100%|████████████████████████████████████████████████████████████████████████████████████████████████████████████| 183/183 [00:01<00:00, 162.36it/s]\n"
     ]
    },
    {
     "name": "stdout",
     "output_type": "stream",
     "text": [
      "Loss: 0.201\n",
      "Train, MAE: 3.7180, RMSE: 6.3806, MAPE: 9.4582\n",
      "Valid, MAE: 3.9464, RMSE: 6.7392, MAPE: 9.9865\n"
     ]
    },
    {
     "name": "stderr",
     "output_type": "stream",
     "text": [
      "Epoch 6: 100%|████████████████████████████████████████████████████████████████████████████████████████████████████████████| 183/183 [00:01<00:00, 163.57it/s]\n"
     ]
    },
    {
     "name": "stdout",
     "output_type": "stream",
     "text": [
      "Loss: 0.203\n"
     ]
    },
    {
     "name": "stderr",
     "output_type": "stream",
     "text": [
      "Epoch 7: 100%|████████████████████████████████████████████████████████████████████████████████████████████████████████████| 183/183 [00:01<00:00, 162.52it/s]\n"
     ]
    },
    {
     "name": "stdout",
     "output_type": "stream",
     "text": [
      "Loss: 0.215\n"
     ]
    },
    {
     "name": "stderr",
     "output_type": "stream",
     "text": [
      "Epoch 8: 100%|████████████████████████████████████████████████████████████████████████████████████████████████████████████| 183/183 [00:01<00:00, 162.68it/s]\n"
     ]
    },
    {
     "name": "stdout",
     "output_type": "stream",
     "text": [
      "Loss: 0.176\n"
     ]
    },
    {
     "name": "stderr",
     "output_type": "stream",
     "text": [
      "Epoch 9: 100%|████████████████████████████████████████████████████████████████████████████████████████████████████████████| 183/183 [00:01<00:00, 163.50it/s]\n"
     ]
    },
    {
     "name": "stdout",
     "output_type": "stream",
     "text": [
      "Loss: 0.248\n"
     ]
    },
    {
     "name": "stderr",
     "output_type": "stream",
     "text": [
      "Epoch 10: 100%|███████████████████████████████████████████████████████████████████████████████████████████████████████████| 183/183 [00:01<00:00, 157.87it/s]\n"
     ]
    },
    {
     "name": "stdout",
     "output_type": "stream",
     "text": [
      "Loss: 0.198\n",
      "Train, MAE: 3.4554, RMSE: 5.9037, MAPE: 8.6754\n",
      "Valid, MAE: 3.7976, RMSE: 6.4861, MAPE: 9.4988\n"
     ]
    },
    {
     "name": "stderr",
     "output_type": "stream",
     "text": [
      "Epoch 11: 100%|███████████████████████████████████████████████████████████████████████████████████████████████████████████| 183/183 [00:01<00:00, 162.42it/s]\n"
     ]
    },
    {
     "name": "stdout",
     "output_type": "stream",
     "text": [
      "Loss: 0.151\n"
     ]
    },
    {
     "name": "stderr",
     "output_type": "stream",
     "text": [
      "Epoch 12: 100%|███████████████████████████████████████████████████████████████████████████████████████████████████████████| 183/183 [00:01<00:00, 160.79it/s]\n"
     ]
    },
    {
     "name": "stdout",
     "output_type": "stream",
     "text": [
      "Loss: 0.218\n"
     ]
    },
    {
     "name": "stderr",
     "output_type": "stream",
     "text": [
      "Epoch 13: 100%|███████████████████████████████████████████████████████████████████████████████████████████████████████████| 183/183 [00:01<00:00, 157.94it/s]\n"
     ]
    },
    {
     "name": "stdout",
     "output_type": "stream",
     "text": [
      "Loss: 0.244\n"
     ]
    },
    {
     "name": "stderr",
     "output_type": "stream",
     "text": [
      "Epoch 14: 100%|███████████████████████████████████████████████████████████████████████████████████████████████████████████| 183/183 [00:01<00:00, 162.72it/s]\n"
     ]
    },
    {
     "name": "stdout",
     "output_type": "stream",
     "text": [
      "Loss: 0.176\n"
     ]
    },
    {
     "name": "stderr",
     "output_type": "stream",
     "text": [
      "Epoch 15: 100%|███████████████████████████████████████████████████████████████████████████████████████████████████████████| 183/183 [00:01<00:00, 163.31it/s]\n"
     ]
    },
    {
     "name": "stdout",
     "output_type": "stream",
     "text": [
      "Loss: 0.196\n",
      "Train, MAE: 3.2649, RMSE: 5.5526, MAPE: 8.1412\n",
      "Valid, MAE: 3.7168, RMSE: 6.3695, MAPE: 9.3417\n"
     ]
    },
    {
     "name": "stderr",
     "output_type": "stream",
     "text": [
      "Epoch 16: 100%|███████████████████████████████████████████████████████████████████████████████████████████████████████████| 183/183 [00:01<00:00, 163.10it/s]\n"
     ]
    },
    {
     "name": "stdout",
     "output_type": "stream",
     "text": [
      "Loss: 0.187\n"
     ]
    },
    {
     "name": "stderr",
     "output_type": "stream",
     "text": [
      "Epoch 17: 100%|███████████████████████████████████████████████████████████████████████████████████████████████████████████| 183/183 [00:01<00:00, 163.44it/s]\n"
     ]
    },
    {
     "name": "stdout",
     "output_type": "stream",
     "text": [
      "Loss: 0.174\n"
     ]
    },
    {
     "name": "stderr",
     "output_type": "stream",
     "text": [
      "Epoch 18: 100%|███████████████████████████████████████████████████████████████████████████████████████████████████████████| 183/183 [00:01<00:00, 159.75it/s]\n"
     ]
    },
    {
     "name": "stdout",
     "output_type": "stream",
     "text": [
      "Loss: 0.135\n"
     ]
    },
    {
     "name": "stderr",
     "output_type": "stream",
     "text": [
      "Epoch 19: 100%|███████████████████████████████████████████████████████████████████████████████████████████████████████████| 183/183 [00:01<00:00, 159.81it/s]\n"
     ]
    },
    {
     "name": "stdout",
     "output_type": "stream",
     "text": [
      "Loss: 0.175\n"
     ]
    },
    {
     "name": "stderr",
     "output_type": "stream",
     "text": [
      "Epoch 20: 100%|███████████████████████████████████████████████████████████████████████████████████████████████████████████| 183/183 [00:01<00:00, 161.30it/s]\n"
     ]
    },
    {
     "name": "stdout",
     "output_type": "stream",
     "text": [
      "Loss: 0.158\n",
      "Train, MAE: 3.1508, RMSE: 5.3340, MAPE: 7.7988\n",
      "Valid, MAE: 3.6694, RMSE: 6.3040, MAPE: 9.1891\n"
     ]
    },
    {
     "name": "stderr",
     "output_type": "stream",
     "text": [
      "Epoch 21: 100%|███████████████████████████████████████████████████████████████████████████████████████████████████████████| 183/183 [00:01<00:00, 160.41it/s]\n"
     ]
    },
    {
     "name": "stdout",
     "output_type": "stream",
     "text": [
      "Loss: 0.156\n"
     ]
    },
    {
     "name": "stderr",
     "output_type": "stream",
     "text": [
      "Epoch 22: 100%|███████████████████████████████████████████████████████████████████████████████████████████████████████████| 183/183 [00:01<00:00, 163.23it/s]\n"
     ]
    },
    {
     "name": "stdout",
     "output_type": "stream",
     "text": [
      "Loss: 0.169\n"
     ]
    },
    {
     "name": "stderr",
     "output_type": "stream",
     "text": [
      "Epoch 23: 100%|███████████████████████████████████████████████████████████████████████████████████████████████████████████| 183/183 [00:01<00:00, 162.43it/s]\n"
     ]
    },
    {
     "name": "stdout",
     "output_type": "stream",
     "text": [
      "Loss: 0.110\n"
     ]
    },
    {
     "name": "stderr",
     "output_type": "stream",
     "text": [
      "Epoch 24: 100%|███████████████████████████████████████████████████████████████████████████████████████████████████████████| 183/183 [00:01<00:00, 162.82it/s]\n"
     ]
    },
    {
     "name": "stdout",
     "output_type": "stream",
     "text": [
      "Loss: 0.156\n"
     ]
    },
    {
     "name": "stderr",
     "output_type": "stream",
     "text": [
      "Epoch 25: 100%|███████████████████████████████████████████████████████████████████████████████████████████████████████████| 183/183 [00:01<00:00, 162.87it/s]\n"
     ]
    },
    {
     "name": "stdout",
     "output_type": "stream",
     "text": [
      "Loss: 0.168\n",
      "Train, MAE: 3.0762, RMSE: 5.1710, MAPE: 7.6521\n",
      "Valid, MAE: 3.6531, RMSE: 6.2506, MAPE: 9.2041\n"
     ]
    },
    {
     "name": "stderr",
     "output_type": "stream",
     "text": [
      "Epoch 26: 100%|███████████████████████████████████████████████████████████████████████████████████████████████████████████| 183/183 [00:01<00:00, 161.00it/s]\n"
     ]
    },
    {
     "name": "stdout",
     "output_type": "stream",
     "text": [
      "Loss: 0.162\n"
     ]
    },
    {
     "name": "stderr",
     "output_type": "stream",
     "text": [
      "Epoch 27: 100%|███████████████████████████████████████████████████████████████████████████████████████████████████████████| 183/183 [00:01<00:00, 163.06it/s]\n"
     ]
    },
    {
     "name": "stdout",
     "output_type": "stream",
     "text": [
      "Loss: 0.173\n"
     ]
    },
    {
     "name": "stderr",
     "output_type": "stream",
     "text": [
      "Epoch 28: 100%|███████████████████████████████████████████████████████████████████████████████████████████████████████████| 183/183 [00:01<00:00, 161.18it/s]\n"
     ]
    },
    {
     "name": "stdout",
     "output_type": "stream",
     "text": [
      "Loss: 0.140\n"
     ]
    },
    {
     "name": "stderr",
     "output_type": "stream",
     "text": [
      "Epoch 29: 100%|███████████████████████████████████████████████████████████████████████████████████████████████████████████| 183/183 [00:01<00:00, 162.83it/s]\n"
     ]
    },
    {
     "name": "stdout",
     "output_type": "stream",
     "text": [
      "Loss: 0.136\n"
     ]
    },
    {
     "name": "stderr",
     "output_type": "stream",
     "text": [
      "Epoch 30: 100%|███████████████████████████████████████████████████████████████████████████████████████████████████████████| 183/183 [00:01<00:00, 162.62it/s]\n"
     ]
    },
    {
     "name": "stdout",
     "output_type": "stream",
     "text": [
      "Loss: 0.124\n",
      "Train, MAE: 3.0179, RMSE: 5.0587, MAPE: 7.4227\n",
      "Valid, MAE: 3.6563, RMSE: 6.2571, MAPE: 9.1604\n"
     ]
    },
    {
     "name": "stderr",
     "output_type": "stream",
     "text": [
      "Epoch 31: 100%|███████████████████████████████████████████████████████████████████████████████████████████████████████████| 183/183 [00:01<00:00, 161.62it/s]\n"
     ]
    },
    {
     "name": "stdout",
     "output_type": "stream",
     "text": [
      "Loss: 0.093\n"
     ]
    },
    {
     "name": "stderr",
     "output_type": "stream",
     "text": [
      "Epoch 32: 100%|███████████████████████████████████████████████████████████████████████████████████████████████████████████| 183/183 [00:01<00:00, 162.80it/s]\n"
     ]
    },
    {
     "name": "stdout",
     "output_type": "stream",
     "text": [
      "Loss: 0.177\n"
     ]
    },
    {
     "name": "stderr",
     "output_type": "stream",
     "text": [
      "Epoch 33: 100%|███████████████████████████████████████████████████████████████████████████████████████████████████████████| 183/183 [00:01<00:00, 163.30it/s]\n"
     ]
    },
    {
     "name": "stdout",
     "output_type": "stream",
     "text": [
      "Loss: 0.171\n"
     ]
    },
    {
     "name": "stderr",
     "output_type": "stream",
     "text": [
      "Epoch 34: 100%|███████████████████████████████████████████████████████████████████████████████████████████████████████████| 183/183 [00:01<00:00, 163.95it/s]\n"
     ]
    },
    {
     "name": "stdout",
     "output_type": "stream",
     "text": [
      "Loss: 0.211\n"
     ]
    },
    {
     "name": "stderr",
     "output_type": "stream",
     "text": [
      "Epoch 35: 100%|███████████████████████████████████████████████████████████████████████████████████████████████████████████| 183/183 [00:01<00:00, 160.50it/s]\n"
     ]
    },
    {
     "name": "stdout",
     "output_type": "stream",
     "text": [
      "Loss: 0.113\n",
      "Train, MAE: 2.9888, RMSE: 4.9749, MAPE: 7.3325\n",
      "Valid, MAE: 3.6858, RMSE: 6.2696, MAPE: 9.2246\n"
     ]
    },
    {
     "name": "stderr",
     "output_type": "stream",
     "text": [
      "Epoch 36: 100%|███████████████████████████████████████████████████████████████████████████████████████████████████████████| 183/183 [00:01<00:00, 163.21it/s]\n"
     ]
    },
    {
     "name": "stdout",
     "output_type": "stream",
     "text": [
      "Loss: 0.099\n"
     ]
    },
    {
     "name": "stderr",
     "output_type": "stream",
     "text": [
      "Epoch 37: 100%|███████████████████████████████████████████████████████████████████████████████████████████████████████████| 183/183 [00:01<00:00, 160.76it/s]\n"
     ]
    },
    {
     "name": "stdout",
     "output_type": "stream",
     "text": [
      "Loss: 0.127\n"
     ]
    },
    {
     "name": "stderr",
     "output_type": "stream",
     "text": [
      "Epoch 38: 100%|███████████████████████████████████████████████████████████████████████████████████████████████████████████| 183/183 [00:01<00:00, 154.00it/s]\n"
     ]
    },
    {
     "name": "stdout",
     "output_type": "stream",
     "text": [
      "Loss: 0.148\n"
     ]
    },
    {
     "name": "stderr",
     "output_type": "stream",
     "text": [
      "Epoch 39: 100%|███████████████████████████████████████████████████████████████████████████████████████████████████████████| 183/183 [00:01<00:00, 158.83it/s]\n"
     ]
    },
    {
     "name": "stdout",
     "output_type": "stream",
     "text": [
      "Loss: 0.140\n"
     ]
    },
    {
     "name": "stderr",
     "output_type": "stream",
     "text": [
      "Epoch 40: 100%|███████████████████████████████████████████████████████████████████████████████████████████████████████████| 183/183 [00:01<00:00, 162.58it/s]\n"
     ]
    },
    {
     "name": "stdout",
     "output_type": "stream",
     "text": [
      "Loss: 0.113\n",
      "Train, MAE: 2.9543, RMSE: 4.8939, MAPE: 7.2164\n",
      "Valid, MAE: 3.6855, RMSE: 6.2480, MAPE: 9.1376\n"
     ]
    },
    {
     "name": "stderr",
     "output_type": "stream",
     "text": [
      "Epoch 41: 100%|███████████████████████████████████████████████████████████████████████████████████████████████████████████| 183/183 [00:01<00:00, 157.59it/s]\n"
     ]
    },
    {
     "name": "stdout",
     "output_type": "stream",
     "text": [
      "Loss: 0.139\n"
     ]
    },
    {
     "name": "stderr",
     "output_type": "stream",
     "text": [
      "Epoch 42: 100%|███████████████████████████████████████████████████████████████████████████████████████████████████████████| 183/183 [00:01<00:00, 160.28it/s]\n"
     ]
    },
    {
     "name": "stdout",
     "output_type": "stream",
     "text": [
      "Loss: 0.123\n"
     ]
    },
    {
     "name": "stderr",
     "output_type": "stream",
     "text": [
      "Epoch 43: 100%|███████████████████████████████████████████████████████████████████████████████████████████████████████████| 183/183 [00:01<00:00, 133.02it/s]\n"
     ]
    },
    {
     "name": "stdout",
     "output_type": "stream",
     "text": [
      "Loss: 0.100\n"
     ]
    },
    {
     "name": "stderr",
     "output_type": "stream",
     "text": [
      "Epoch 44: 100%|███████████████████████████████████████████████████████████████████████████████████████████████████████████| 183/183 [00:01<00:00, 158.70it/s]\n"
     ]
    },
    {
     "name": "stdout",
     "output_type": "stream",
     "text": [
      "Loss: 0.118\n"
     ]
    },
    {
     "name": "stderr",
     "output_type": "stream",
     "text": [
      "Epoch 45: 100%|███████████████████████████████████████████████████████████████████████████████████████████████████████████| 183/183 [00:01<00:00, 158.91it/s]\n"
     ]
    },
    {
     "name": "stdout",
     "output_type": "stream",
     "text": [
      "Loss: 0.117\n",
      "Train, MAE: 2.9237, RMSE: 4.8335, MAPE: 7.1175\n",
      "Valid, MAE: 3.7039, RMSE: 6.2975, MAPE: 9.1796\n"
     ]
    },
    {
     "name": "stderr",
     "output_type": "stream",
     "text": [
      "Epoch 46: 100%|███████████████████████████████████████████████████████████████████████████████████████████████████████████| 183/183 [00:01<00:00, 159.62it/s]\n"
     ]
    },
    {
     "name": "stdout",
     "output_type": "stream",
     "text": [
      "Loss: 0.093\n"
     ]
    },
    {
     "name": "stderr",
     "output_type": "stream",
     "text": [
      "Epoch 47: 100%|███████████████████████████████████████████████████████████████████████████████████████████████████████████| 183/183 [00:01<00:00, 159.52it/s]\n"
     ]
    },
    {
     "name": "stdout",
     "output_type": "stream",
     "text": [
      "Loss: 0.100\n"
     ]
    },
    {
     "name": "stderr",
     "output_type": "stream",
     "text": [
      "Epoch 48: 100%|███████████████████████████████████████████████████████████████████████████████████████████████████████████| 183/183 [00:01<00:00, 159.86it/s]\n"
     ]
    },
    {
     "name": "stdout",
     "output_type": "stream",
     "text": [
      "Loss: 0.107\n"
     ]
    },
    {
     "name": "stderr",
     "output_type": "stream",
     "text": [
      "Epoch 49: 100%|███████████████████████████████████████████████████████████████████████████████████████████████████████████| 183/183 [00:01<00:00, 163.48it/s]\n"
     ]
    },
    {
     "name": "stdout",
     "output_type": "stream",
     "text": [
      "Loss: 0.165\n"
     ]
    },
    {
     "name": "stderr",
     "output_type": "stream",
     "text": [
      "Epoch 50: 100%|███████████████████████████████████████████████████████████████████████████████████████████████████████████| 183/183 [00:01<00:00, 163.86it/s]\n"
     ]
    },
    {
     "name": "stdout",
     "output_type": "stream",
     "text": [
      "Loss: 0.089\n",
      "Train, MAE: 2.8903, RMSE: 4.7786, MAPE: 7.0332\n",
      "Valid, MAE: 3.7067, RMSE: 6.3088, MAPE: 9.1935\n"
     ]
    },
    {
     "name": "stderr",
     "output_type": "stream",
     "text": [
      "Epoch 51: 100%|███████████████████████████████████████████████████████████████████████████████████████████████████████████| 183/183 [00:01<00:00, 162.93it/s]\n"
     ]
    },
    {
     "name": "stdout",
     "output_type": "stream",
     "text": [
      "Loss: 0.133\n"
     ]
    },
    {
     "name": "stderr",
     "output_type": "stream",
     "text": [
      "Epoch 52: 100%|███████████████████████████████████████████████████████████████████████████████████████████████████████████| 183/183 [00:01<00:00, 163.46it/s]\n"
     ]
    },
    {
     "name": "stdout",
     "output_type": "stream",
     "text": [
      "Loss: 0.193\n"
     ]
    },
    {
     "name": "stderr",
     "output_type": "stream",
     "text": [
      "Epoch 53: 100%|███████████████████████████████████████████████████████████████████████████████████████████████████████████| 183/183 [00:01<00:00, 164.63it/s]\n"
     ]
    },
    {
     "name": "stdout",
     "output_type": "stream",
     "text": [
      "Loss: 0.104\n"
     ]
    },
    {
     "name": "stderr",
     "output_type": "stream",
     "text": [
      "Epoch 54: 100%|███████████████████████████████████████████████████████████████████████████████████████████████████████████| 183/183 [00:01<00:00, 163.00it/s]\n"
     ]
    },
    {
     "name": "stdout",
     "output_type": "stream",
     "text": [
      "Loss: 0.081\n"
     ]
    },
    {
     "name": "stderr",
     "output_type": "stream",
     "text": [
      "Epoch 55: 100%|███████████████████████████████████████████████████████████████████████████████████████████████████████████| 183/183 [00:01<00:00, 164.25it/s]\n"
     ]
    },
    {
     "name": "stdout",
     "output_type": "stream",
     "text": [
      "Loss: 0.086\n",
      "Train, MAE: 2.8775, RMSE: 4.7349, MAPE: 6.9314\n",
      "Valid, MAE: 3.7354, RMSE: 6.3301, MAPE: 9.1802\n"
     ]
    },
    {
     "name": "stderr",
     "output_type": "stream",
     "text": [
      "Epoch 56: 100%|███████████████████████████████████████████████████████████████████████████████████████████████████████████| 183/183 [00:01<00:00, 163.17it/s]\n"
     ]
    },
    {
     "name": "stdout",
     "output_type": "stream",
     "text": [
      "Loss: 0.119\n"
     ]
    },
    {
     "name": "stderr",
     "output_type": "stream",
     "text": [
      "Epoch 57: 100%|███████████████████████████████████████████████████████████████████████████████████████████████████████████| 183/183 [00:01<00:00, 162.59it/s]\n"
     ]
    },
    {
     "name": "stdout",
     "output_type": "stream",
     "text": [
      "Loss: 0.140\n"
     ]
    },
    {
     "name": "stderr",
     "output_type": "stream",
     "text": [
      "Epoch 58: 100%|███████████████████████████████████████████████████████████████████████████████████████████████████████████| 183/183 [00:01<00:00, 162.59it/s]\n"
     ]
    },
    {
     "name": "stdout",
     "output_type": "stream",
     "text": [
      "Loss: 0.122\n"
     ]
    },
    {
     "name": "stderr",
     "output_type": "stream",
     "text": [
      "Epoch 59: 100%|███████████████████████████████████████████████████████████████████████████████████████████████████████████| 183/183 [00:01<00:00, 161.85it/s]\n"
     ]
    },
    {
     "name": "stdout",
     "output_type": "stream",
     "text": [
      "Loss: 0.134\n"
     ]
    },
    {
     "name": "stderr",
     "output_type": "stream",
     "text": [
      "Epoch 60: 100%|███████████████████████████████████████████████████████████████████████████████████████████████████████████| 183/183 [00:01<00:00, 159.22it/s]\n"
     ]
    },
    {
     "name": "stdout",
     "output_type": "stream",
     "text": [
      "Loss: 0.119\n",
      "Train, MAE: 2.8495, RMSE: 4.6957, MAPE: 6.9293\n",
      "Valid, MAE: 3.7131, RMSE: 6.3038, MAPE: 9.2337\n"
     ]
    },
    {
     "name": "stderr",
     "output_type": "stream",
     "text": [
      "Epoch 61: 100%|███████████████████████████████████████████████████████████████████████████████████████████████████████████| 183/183 [00:01<00:00, 158.49it/s]\n"
     ]
    },
    {
     "name": "stdout",
     "output_type": "stream",
     "text": [
      "Loss: 0.118\n"
     ]
    },
    {
     "name": "stderr",
     "output_type": "stream",
     "text": [
      "Epoch 62: 100%|███████████████████████████████████████████████████████████████████████████████████████████████████████████| 183/183 [00:01<00:00, 158.56it/s]\n"
     ]
    },
    {
     "name": "stdout",
     "output_type": "stream",
     "text": [
      "Loss: 0.103\n"
     ]
    },
    {
     "name": "stderr",
     "output_type": "stream",
     "text": [
      "Epoch 63: 100%|███████████████████████████████████████████████████████████████████████████████████████████████████████████| 183/183 [00:01<00:00, 159.48it/s]\n"
     ]
    },
    {
     "name": "stdout",
     "output_type": "stream",
     "text": [
      "Loss: 0.103\n"
     ]
    },
    {
     "name": "stderr",
     "output_type": "stream",
     "text": [
      "Epoch 64: 100%|███████████████████████████████████████████████████████████████████████████████████████████████████████████| 183/183 [00:01<00:00, 160.34it/s]\n"
     ]
    },
    {
     "name": "stdout",
     "output_type": "stream",
     "text": [
      "Loss: 0.112\n"
     ]
    },
    {
     "name": "stderr",
     "output_type": "stream",
     "text": [
      "Epoch 65: 100%|███████████████████████████████████████████████████████████████████████████████████████████████████████████| 183/183 [00:01<00:00, 159.63it/s]\n"
     ]
    },
    {
     "name": "stdout",
     "output_type": "stream",
     "text": [
      "Loss: 0.099\n",
      "Train, MAE: 2.8380, RMSE: 4.6684, MAPE: 6.8840\n",
      "Valid, MAE: 3.7340, RMSE: 6.3375, MAPE: 9.2321\n"
     ]
    },
    {
     "name": "stderr",
     "output_type": "stream",
     "text": [
      "Epoch 66: 100%|███████████████████████████████████████████████████████████████████████████████████████████████████████████| 183/183 [00:01<00:00, 157.10it/s]\n"
     ]
    },
    {
     "name": "stdout",
     "output_type": "stream",
     "text": [
      "Loss: 0.136\n"
     ]
    },
    {
     "name": "stderr",
     "output_type": "stream",
     "text": [
      "Epoch 67: 100%|███████████████████████████████████████████████████████████████████████████████████████████████████████████| 183/183 [00:01<00:00, 162.73it/s]\n"
     ]
    },
    {
     "name": "stdout",
     "output_type": "stream",
     "text": [
      "Loss: 0.135\n"
     ]
    },
    {
     "name": "stderr",
     "output_type": "stream",
     "text": [
      "Epoch 68: 100%|███████████████████████████████████████████████████████████████████████████████████████████████████████████| 183/183 [00:01<00:00, 163.40it/s]\n"
     ]
    },
    {
     "name": "stdout",
     "output_type": "stream",
     "text": [
      "Loss: 0.122\n"
     ]
    },
    {
     "name": "stderr",
     "output_type": "stream",
     "text": [
      "Epoch 69: 100%|███████████████████████████████████████████████████████████████████████████████████████████████████████████| 183/183 [00:01<00:00, 164.09it/s]\n"
     ]
    },
    {
     "name": "stdout",
     "output_type": "stream",
     "text": [
      "Loss: 0.110\n"
     ]
    },
    {
     "name": "stderr",
     "output_type": "stream",
     "text": [
      "Epoch 70: 100%|███████████████████████████████████████████████████████████████████████████████████████████████████████████| 183/183 [00:01<00:00, 163.56it/s]\n"
     ]
    },
    {
     "name": "stdout",
     "output_type": "stream",
     "text": [
      "Loss: 0.143\n",
      "Train, MAE: 2.8236, RMSE: 4.6255, MAPE: 6.8202\n",
      "Valid, MAE: 3.7401, RMSE: 6.3356, MAPE: 9.2485\n"
     ]
    },
    {
     "name": "stderr",
     "output_type": "stream",
     "text": [
      "Epoch 71: 100%|███████████████████████████████████████████████████████████████████████████████████████████████████████████| 183/183 [00:01<00:00, 156.85it/s]\n"
     ]
    },
    {
     "name": "stdout",
     "output_type": "stream",
     "text": [
      "Loss: 0.082\n"
     ]
    },
    {
     "name": "stderr",
     "output_type": "stream",
     "text": [
      "Epoch 72: 100%|███████████████████████████████████████████████████████████████████████████████████████████████████████████| 183/183 [00:01<00:00, 161.88it/s]\n"
     ]
    },
    {
     "name": "stdout",
     "output_type": "stream",
     "text": [
      "Loss: 0.114\n"
     ]
    },
    {
     "name": "stderr",
     "output_type": "stream",
     "text": [
      "Epoch 73: 100%|███████████████████████████████████████████████████████████████████████████████████████████████████████████| 183/183 [00:01<00:00, 161.21it/s]\n"
     ]
    },
    {
     "name": "stdout",
     "output_type": "stream",
     "text": [
      "Loss: 0.131\n"
     ]
    },
    {
     "name": "stderr",
     "output_type": "stream",
     "text": [
      "Epoch 74: 100%|███████████████████████████████████████████████████████████████████████████████████████████████████████████| 183/183 [00:01<00:00, 161.09it/s]\n"
     ]
    },
    {
     "name": "stdout",
     "output_type": "stream",
     "text": [
      "Loss: 0.116\n"
     ]
    },
    {
     "name": "stderr",
     "output_type": "stream",
     "text": [
      "Epoch 75: 100%|███████████████████████████████████████████████████████████████████████████████████████████████████████████| 183/183 [00:01<00:00, 162.86it/s]\n"
     ]
    },
    {
     "name": "stdout",
     "output_type": "stream",
     "text": [
      "Loss: 0.116\n",
      "Train, MAE: 2.8271, RMSE: 4.6108, MAPE: 6.8041\n",
      "Valid, MAE: 3.7757, RMSE: 6.3712, MAPE: 9.2872\n"
     ]
    },
    {
     "name": "stderr",
     "output_type": "stream",
     "text": [
      "Epoch 76: 100%|███████████████████████████████████████████████████████████████████████████████████████████████████████████| 183/183 [00:01<00:00, 160.83it/s]\n"
     ]
    },
    {
     "name": "stdout",
     "output_type": "stream",
     "text": [
      "Loss: 0.081\n"
     ]
    },
    {
     "name": "stderr",
     "output_type": "stream",
     "text": [
      "Epoch 77: 100%|███████████████████████████████████████████████████████████████████████████████████████████████████████████| 183/183 [00:01<00:00, 164.16it/s]\n"
     ]
    },
    {
     "name": "stdout",
     "output_type": "stream",
     "text": [
      "Loss: 0.106\n"
     ]
    },
    {
     "name": "stderr",
     "output_type": "stream",
     "text": [
      "Epoch 78: 100%|███████████████████████████████████████████████████████████████████████████████████████████████████████████| 183/183 [00:01<00:00, 163.26it/s]\n"
     ]
    },
    {
     "name": "stdout",
     "output_type": "stream",
     "text": [
      "Loss: 0.123\n"
     ]
    },
    {
     "name": "stderr",
     "output_type": "stream",
     "text": [
      "Epoch 79: 100%|███████████████████████████████████████████████████████████████████████████████████████████████████████████| 183/183 [00:01<00:00, 163.49it/s]\n"
     ]
    },
    {
     "name": "stdout",
     "output_type": "stream",
     "text": [
      "Loss: 0.133\n"
     ]
    },
    {
     "name": "stderr",
     "output_type": "stream",
     "text": [
      "Epoch 80: 100%|███████████████████████████████████████████████████████████████████████████████████████████████████████████| 183/183 [00:01<00:00, 163.79it/s]\n"
     ]
    },
    {
     "name": "stdout",
     "output_type": "stream",
     "text": [
      "Loss: 0.126\n",
      "Train, MAE: 2.7984, RMSE: 4.5801, MAPE: 6.7314\n",
      "Valid, MAE: 3.7519, RMSE: 6.3651, MAPE: 9.2339\n"
     ]
    },
    {
     "name": "stderr",
     "output_type": "stream",
     "text": [
      "Epoch 81: 100%|███████████████████████████████████████████████████████████████████████████████████████████████████████████| 183/183 [00:01<00:00, 161.19it/s]\n"
     ]
    },
    {
     "name": "stdout",
     "output_type": "stream",
     "text": [
      "Loss: 0.104\n"
     ]
    },
    {
     "name": "stderr",
     "output_type": "stream",
     "text": [
      "Epoch 82: 100%|███████████████████████████████████████████████████████████████████████████████████████████████████████████| 183/183 [00:01<00:00, 164.23it/s]\n"
     ]
    },
    {
     "name": "stdout",
     "output_type": "stream",
     "text": [
      "Loss: 0.138\n"
     ]
    },
    {
     "name": "stderr",
     "output_type": "stream",
     "text": [
      "Epoch 83: 100%|███████████████████████████████████████████████████████████████████████████████████████████████████████████| 183/183 [00:01<00:00, 164.64it/s]\n"
     ]
    },
    {
     "name": "stdout",
     "output_type": "stream",
     "text": [
      "Loss: 0.109\n"
     ]
    },
    {
     "name": "stderr",
     "output_type": "stream",
     "text": [
      "Epoch 84: 100%|███████████████████████████████████████████████████████████████████████████████████████████████████████████| 183/183 [00:01<00:00, 163.54it/s]\n"
     ]
    },
    {
     "name": "stdout",
     "output_type": "stream",
     "text": [
      "Loss: 0.100\n"
     ]
    },
    {
     "name": "stderr",
     "output_type": "stream",
     "text": [
      "Epoch 85: 100%|███████████████████████████████████████████████████████████████████████████████████████████████████████████| 183/183 [00:01<00:00, 163.49it/s]\n"
     ]
    },
    {
     "name": "stdout",
     "output_type": "stream",
     "text": [
      "Loss: 0.116\n",
      "Train, MAE: 2.7750, RMSE: 4.5554, MAPE: 6.7513\n",
      "Valid, MAE: 3.7203, RMSE: 6.3254, MAPE: 9.2798\n"
     ]
    },
    {
     "name": "stderr",
     "output_type": "stream",
     "text": [
      "Epoch 86: 100%|███████████████████████████████████████████████████████████████████████████████████████████████████████████| 183/183 [00:01<00:00, 163.50it/s]\n"
     ]
    },
    {
     "name": "stdout",
     "output_type": "stream",
     "text": [
      "Loss: 0.113\n"
     ]
    },
    {
     "name": "stderr",
     "output_type": "stream",
     "text": [
      "Epoch 87: 100%|███████████████████████████████████████████████████████████████████████████████████████████████████████████| 183/183 [00:01<00:00, 163.28it/s]\n"
     ]
    },
    {
     "name": "stdout",
     "output_type": "stream",
     "text": [
      "Loss: 0.114\n"
     ]
    },
    {
     "name": "stderr",
     "output_type": "stream",
     "text": [
      "Epoch 88: 100%|███████████████████████████████████████████████████████████████████████████████████████████████████████████| 183/183 [00:01<00:00, 163.35it/s]\n"
     ]
    },
    {
     "name": "stdout",
     "output_type": "stream",
     "text": [
      "Loss: 0.130\n"
     ]
    },
    {
     "name": "stderr",
     "output_type": "stream",
     "text": [
      "Epoch 89: 100%|███████████████████████████████████████████████████████████████████████████████████████████████████████████| 183/183 [00:01<00:00, 162.67it/s]\n"
     ]
    },
    {
     "name": "stdout",
     "output_type": "stream",
     "text": [
      "Loss: 0.098\n"
     ]
    },
    {
     "name": "stderr",
     "output_type": "stream",
     "text": [
      "Epoch 90: 100%|███████████████████████████████████████████████████████████████████████████████████████████████████████████| 183/183 [00:01<00:00, 161.92it/s]\n"
     ]
    },
    {
     "name": "stdout",
     "output_type": "stream",
     "text": [
      "Loss: 0.112\n",
      "Train, MAE: 2.7890, RMSE: 4.5393, MAPE: 6.6881\n",
      "Valid, MAE: 3.7815, RMSE: 6.3974, MAPE: 9.2994\n"
     ]
    },
    {
     "name": "stderr",
     "output_type": "stream",
     "text": [
      "Epoch 91: 100%|███████████████████████████████████████████████████████████████████████████████████████████████████████████| 183/183 [00:01<00:00, 162.71it/s]\n"
     ]
    },
    {
     "name": "stdout",
     "output_type": "stream",
     "text": [
      "Loss: 0.146\n"
     ]
    },
    {
     "name": "stderr",
     "output_type": "stream",
     "text": [
      "Epoch 92: 100%|███████████████████████████████████████████████████████████████████████████████████████████████████████████| 183/183 [00:01<00:00, 163.33it/s]\n"
     ]
    },
    {
     "name": "stdout",
     "output_type": "stream",
     "text": [
      "Loss: 0.117\n"
     ]
    },
    {
     "name": "stderr",
     "output_type": "stream",
     "text": [
      "Epoch 93: 100%|███████████████████████████████████████████████████████████████████████████████████████████████████████████| 183/183 [00:01<00:00, 163.44it/s]\n"
     ]
    },
    {
     "name": "stdout",
     "output_type": "stream",
     "text": [
      "Loss: 0.146\n"
     ]
    },
    {
     "name": "stderr",
     "output_type": "stream",
     "text": [
      "Epoch 94: 100%|███████████████████████████████████████████████████████████████████████████████████████████████████████████| 183/183 [00:01<00:00, 161.86it/s]\n"
     ]
    },
    {
     "name": "stdout",
     "output_type": "stream",
     "text": [
      "Loss: 0.105\n"
     ]
    },
    {
     "name": "stderr",
     "output_type": "stream",
     "text": [
      "Epoch 95: 100%|███████████████████████████████████████████████████████████████████████████████████████████████████████████| 183/183 [00:01<00:00, 163.04it/s]\n"
     ]
    },
    {
     "name": "stdout",
     "output_type": "stream",
     "text": [
      "Loss: 0.105\n",
      "Train, MAE: 2.7680, RMSE: 4.5196, MAPE: 6.6765\n",
      "Valid, MAE: 3.7555, RMSE: 6.3571, MAPE: 9.2986\n"
     ]
    },
    {
     "name": "stderr",
     "output_type": "stream",
     "text": [
      "Epoch 96: 100%|███████████████████████████████████████████████████████████████████████████████████████████████████████████| 183/183 [00:01<00:00, 162.76it/s]\n"
     ]
    },
    {
     "name": "stdout",
     "output_type": "stream",
     "text": [
      "Loss: 0.107\n"
     ]
    },
    {
     "name": "stderr",
     "output_type": "stream",
     "text": [
      "Epoch 97: 100%|███████████████████████████████████████████████████████████████████████████████████████████████████████████| 183/183 [00:01<00:00, 160.91it/s]\n"
     ]
    },
    {
     "name": "stdout",
     "output_type": "stream",
     "text": [
      "Loss: 0.116\n"
     ]
    },
    {
     "name": "stderr",
     "output_type": "stream",
     "text": [
      "Epoch 98: 100%|███████████████████████████████████████████████████████████████████████████████████████████████████████████| 183/183 [00:01<00:00, 162.56it/s]\n"
     ]
    },
    {
     "name": "stdout",
     "output_type": "stream",
     "text": [
      "Loss: 0.073\n"
     ]
    },
    {
     "name": "stderr",
     "output_type": "stream",
     "text": [
      "Epoch 99: 100%|███████████████████████████████████████████████████████████████████████████████████████████████████████████| 183/183 [00:01<00:00, 163.20it/s]\n"
     ]
    },
    {
     "name": "stdout",
     "output_type": "stream",
     "text": [
      "Loss: 0.113\n"
     ]
    },
    {
     "name": "stderr",
     "output_type": "stream",
     "text": [
      "Epoch 100: 100%|██████████████████████████████████████████████████████████████████████████████████████████████████████████| 183/183 [00:01<00:00, 163.39it/s]\n"
     ]
    },
    {
     "name": "stdout",
     "output_type": "stream",
     "text": [
      "Loss: 0.136\n",
      "Train, MAE: 2.7647, RMSE: 4.5127, MAPE: 6.7059\n",
      "Valid, MAE: 3.7550, RMSE: 6.3559, MAPE: 9.3291\n"
     ]
    },
    {
     "name": "stderr",
     "output_type": "stream",
     "text": [
      "Epoch 101: 100%|██████████████████████████████████████████████████████████████████████████████████████████████████████████| 183/183 [00:01<00:00, 163.29it/s]\n"
     ]
    },
    {
     "name": "stdout",
     "output_type": "stream",
     "text": [
      "Loss: 0.125\n"
     ]
    },
    {
     "name": "stderr",
     "output_type": "stream",
     "text": [
      "Epoch 102: 100%|██████████████████████████████████████████████████████████████████████████████████████████████████████████| 183/183 [00:01<00:00, 162.50it/s]\n"
     ]
    },
    {
     "name": "stdout",
     "output_type": "stream",
     "text": [
      "Loss: 0.083\n"
     ]
    },
    {
     "name": "stderr",
     "output_type": "stream",
     "text": [
      "Epoch 103: 100%|██████████████████████████████████████████████████████████████████████████████████████████████████████████| 183/183 [00:01<00:00, 163.02it/s]\n"
     ]
    },
    {
     "name": "stdout",
     "output_type": "stream",
     "text": [
      "Loss: 0.136\n"
     ]
    },
    {
     "name": "stderr",
     "output_type": "stream",
     "text": [
      "Epoch 104: 100%|██████████████████████████████████████████████████████████████████████████████████████████████████████████| 183/183 [00:01<00:00, 164.15it/s]\n"
     ]
    },
    {
     "name": "stdout",
     "output_type": "stream",
     "text": [
      "Loss: 0.111\n"
     ]
    },
    {
     "name": "stderr",
     "output_type": "stream",
     "text": [
      "Epoch 105: 100%|██████████████████████████████████████████████████████████████████████████████████████████████████████████| 183/183 [00:01<00:00, 164.46it/s]\n"
     ]
    },
    {
     "name": "stdout",
     "output_type": "stream",
     "text": [
      "Loss: 0.121\n",
      "Train, MAE: 2.7692, RMSE: 4.4927, MAPE: 6.6441\n",
      "Valid, MAE: 3.7883, RMSE: 6.3931, MAPE: 9.3914\n"
     ]
    },
    {
     "name": "stderr",
     "output_type": "stream",
     "text": [
      "Epoch 106: 100%|██████████████████████████████████████████████████████████████████████████████████████████████████████████| 183/183 [00:01<00:00, 163.76it/s]\n"
     ]
    },
    {
     "name": "stdout",
     "output_type": "stream",
     "text": [
      "Loss: 0.125\n"
     ]
    },
    {
     "name": "stderr",
     "output_type": "stream",
     "text": [
      "Epoch 107: 100%|██████████████████████████████████████████████████████████████████████████████████████████████████████████| 183/183 [00:01<00:00, 160.02it/s]\n"
     ]
    },
    {
     "name": "stdout",
     "output_type": "stream",
     "text": [
      "Loss: 0.105\n"
     ]
    },
    {
     "name": "stderr",
     "output_type": "stream",
     "text": [
      "Epoch 108: 100%|██████████████████████████████████████████████████████████████████████████████████████████████████████████| 183/183 [00:01<00:00, 161.01it/s]\n"
     ]
    },
    {
     "name": "stdout",
     "output_type": "stream",
     "text": [
      "Loss: 0.098\n"
     ]
    },
    {
     "name": "stderr",
     "output_type": "stream",
     "text": [
      "Epoch 109: 100%|██████████████████████████████████████████████████████████████████████████████████████████████████████████| 183/183 [00:01<00:00, 163.77it/s]\n"
     ]
    },
    {
     "name": "stdout",
     "output_type": "stream",
     "text": [
      "Loss: 0.121\n"
     ]
    },
    {
     "name": "stderr",
     "output_type": "stream",
     "text": [
      "Epoch 110: 100%|██████████████████████████████████████████████████████████████████████████████████████████████████████████| 183/183 [00:01<00:00, 163.63it/s]\n"
     ]
    },
    {
     "name": "stdout",
     "output_type": "stream",
     "text": [
      "Loss: 0.131\n",
      "Train, MAE: 2.7406, RMSE: 4.4694, MAPE: 6.6260\n",
      "Valid, MAE: 3.7371, RMSE: 6.3463, MAPE: 9.2826\n"
     ]
    },
    {
     "name": "stderr",
     "output_type": "stream",
     "text": [
      "Epoch 111: 100%|██████████████████████████████████████████████████████████████████████████████████████████████████████████| 183/183 [00:01<00:00, 162.37it/s]\n"
     ]
    },
    {
     "name": "stdout",
     "output_type": "stream",
     "text": [
      "Loss: 0.107\n"
     ]
    },
    {
     "name": "stderr",
     "output_type": "stream",
     "text": [
      "Epoch 112: 100%|██████████████████████████████████████████████████████████████████████████████████████████████████████████| 183/183 [00:01<00:00, 163.82it/s]\n"
     ]
    },
    {
     "name": "stdout",
     "output_type": "stream",
     "text": [
      "Loss: 0.128\n"
     ]
    },
    {
     "name": "stderr",
     "output_type": "stream",
     "text": [
      "Epoch 113: 100%|██████████████████████████████████████████████████████████████████████████████████████████████████████████| 183/183 [00:01<00:00, 163.48it/s]\n"
     ]
    },
    {
     "name": "stdout",
     "output_type": "stream",
     "text": [
      "Loss: 0.119\n"
     ]
    },
    {
     "name": "stderr",
     "output_type": "stream",
     "text": [
      "Epoch 114: 100%|██████████████████████████████████████████████████████████████████████████████████████████████████████████| 183/183 [00:01<00:00, 158.96it/s]\n"
     ]
    },
    {
     "name": "stdout",
     "output_type": "stream",
     "text": [
      "Loss: 0.118\n"
     ]
    },
    {
     "name": "stderr",
     "output_type": "stream",
     "text": [
      "Epoch 115: 100%|██████████████████████████████████████████████████████████████████████████████████████████████████████████| 183/183 [00:01<00:00, 160.00it/s]\n"
     ]
    },
    {
     "name": "stdout",
     "output_type": "stream",
     "text": [
      "Loss: 0.099\n",
      "Train, MAE: 2.7519, RMSE: 4.4593, MAPE: 6.5764\n",
      "Valid, MAE: 3.7937, RMSE: 6.4084, MAPE: 9.3203\n"
     ]
    },
    {
     "name": "stderr",
     "output_type": "stream",
     "text": [
      "Epoch 116: 100%|██████████████████████████████████████████████████████████████████████████████████████████████████████████| 183/183 [00:01<00:00, 163.10it/s]\n"
     ]
    },
    {
     "name": "stdout",
     "output_type": "stream",
     "text": [
      "Loss: 0.118\n"
     ]
    },
    {
     "name": "stderr",
     "output_type": "stream",
     "text": [
      "Epoch 117: 100%|██████████████████████████████████████████████████████████████████████████████████████████████████████████| 183/183 [00:01<00:00, 162.90it/s]\n"
     ]
    },
    {
     "name": "stdout",
     "output_type": "stream",
     "text": [
      "Loss: 0.121\n"
     ]
    },
    {
     "name": "stderr",
     "output_type": "stream",
     "text": [
      "Epoch 118: 100%|██████████████████████████████████████████████████████████████████████████████████████████████████████████| 183/183 [00:01<00:00, 163.60it/s]\n"
     ]
    },
    {
     "name": "stdout",
     "output_type": "stream",
     "text": [
      "Loss: 0.126\n"
     ]
    },
    {
     "name": "stderr",
     "output_type": "stream",
     "text": [
      "Epoch 119: 100%|██████████████████████████████████████████████████████████████████████████████████████████████████████████| 183/183 [00:01<00:00, 163.31it/s]\n"
     ]
    },
    {
     "name": "stdout",
     "output_type": "stream",
     "text": [
      "Loss: 0.103\n"
     ]
    },
    {
     "name": "stderr",
     "output_type": "stream",
     "text": [
      "Epoch 120: 100%|██████████████████████████████████████████████████████████████████████████████████████████████████████████| 183/183 [00:01<00:00, 161.86it/s]\n"
     ]
    },
    {
     "name": "stdout",
     "output_type": "stream",
     "text": [
      "Loss: 0.111\n",
      "Train, MAE: 2.7426, RMSE: 4.4460, MAPE: 6.5927\n",
      "Valid, MAE: 3.7936, RMSE: 6.4217, MAPE: 9.3973\n"
     ]
    },
    {
     "name": "stderr",
     "output_type": "stream",
     "text": [
      "Epoch 121: 100%|██████████████████████████████████████████████████████████████████████████████████████████████████████████| 183/183 [00:01<00:00, 162.41it/s]\n"
     ]
    },
    {
     "name": "stdout",
     "output_type": "stream",
     "text": [
      "Loss: 0.108\n"
     ]
    },
    {
     "name": "stderr",
     "output_type": "stream",
     "text": [
      "Epoch 122: 100%|██████████████████████████████████████████████████████████████████████████████████████████████████████████| 183/183 [00:01<00:00, 163.00it/s]\n"
     ]
    },
    {
     "name": "stdout",
     "output_type": "stream",
     "text": [
      "Loss: 0.115\n"
     ]
    },
    {
     "name": "stderr",
     "output_type": "stream",
     "text": [
      "Epoch 123: 100%|██████████████████████████████████████████████████████████████████████████████████████████████████████████| 183/183 [00:01<00:00, 158.59it/s]\n"
     ]
    },
    {
     "name": "stdout",
     "output_type": "stream",
     "text": [
      "Loss: 0.115\n"
     ]
    },
    {
     "name": "stderr",
     "output_type": "stream",
     "text": [
      "Epoch 124: 100%|██████████████████████████████████████████████████████████████████████████████████████████████████████████| 183/183 [00:01<00:00, 158.82it/s]\n"
     ]
    },
    {
     "name": "stdout",
     "output_type": "stream",
     "text": [
      "Loss: 0.129\n"
     ]
    },
    {
     "name": "stderr",
     "output_type": "stream",
     "text": [
      "Epoch 125: 100%|██████████████████████████████████████████████████████████████████████████████████████████████████████████| 183/183 [00:01<00:00, 159.15it/s]\n"
     ]
    },
    {
     "name": "stdout",
     "output_type": "stream",
     "text": [
      "Loss: 0.122\n",
      "Train, MAE: 2.7328, RMSE: 4.4294, MAPE: 6.5783\n",
      "Valid, MAE: 3.7866, RMSE: 6.4056, MAPE: 9.4362\n"
     ]
    },
    {
     "name": "stderr",
     "output_type": "stream",
     "text": [
      "Epoch 126: 100%|██████████████████████████████████████████████████████████████████████████████████████████████████████████| 183/183 [00:01<00:00, 159.13it/s]\n"
     ]
    },
    {
     "name": "stdout",
     "output_type": "stream",
     "text": [
      "Loss: 0.102\n"
     ]
    },
    {
     "name": "stderr",
     "output_type": "stream",
     "text": [
      "Epoch 127: 100%|██████████████████████████████████████████████████████████████████████████████████████████████████████████| 183/183 [00:01<00:00, 157.77it/s]\n"
     ]
    },
    {
     "name": "stdout",
     "output_type": "stream",
     "text": [
      "Loss: 0.084\n"
     ]
    },
    {
     "name": "stderr",
     "output_type": "stream",
     "text": [
      "Epoch 128: 100%|██████████████████████████████████████████████████████████████████████████████████████████████████████████| 183/183 [00:01<00:00, 159.00it/s]\n"
     ]
    },
    {
     "name": "stdout",
     "output_type": "stream",
     "text": [
      "Loss: 0.095\n"
     ]
    },
    {
     "name": "stderr",
     "output_type": "stream",
     "text": [
      "Epoch 129: 100%|██████████████████████████████████████████████████████████████████████████████████████████████████████████| 183/183 [00:01<00:00, 158.63it/s]\n"
     ]
    },
    {
     "name": "stdout",
     "output_type": "stream",
     "text": [
      "Loss: 0.100\n"
     ]
    },
    {
     "name": "stderr",
     "output_type": "stream",
     "text": [
      "Epoch 130: 100%|██████████████████████████████████████████████████████████████████████████████████████████████████████████| 183/183 [00:01<00:00, 159.33it/s]\n"
     ]
    },
    {
     "name": "stdout",
     "output_type": "stream",
     "text": [
      "Loss: 0.084\n",
      "Train, MAE: 2.7323, RMSE: 4.4289, MAPE: 6.5625\n",
      "Valid, MAE: 3.8013, RMSE: 6.4387, MAPE: 9.4356\n"
     ]
    },
    {
     "name": "stderr",
     "output_type": "stream",
     "text": [
      "Epoch 131: 100%|██████████████████████████████████████████████████████████████████████████████████████████████████████████| 183/183 [00:01<00:00, 157.68it/s]\n"
     ]
    },
    {
     "name": "stdout",
     "output_type": "stream",
     "text": [
      "Loss: 0.121\n"
     ]
    },
    {
     "name": "stderr",
     "output_type": "stream",
     "text": [
      "Epoch 132: 100%|██████████████████████████████████████████████████████████████████████████████████████████████████████████| 183/183 [00:01<00:00, 159.61it/s]\n"
     ]
    },
    {
     "name": "stdout",
     "output_type": "stream",
     "text": [
      "Loss: 0.133\n"
     ]
    },
    {
     "name": "stderr",
     "output_type": "stream",
     "text": [
      "Epoch 133: 100%|██████████████████████████████████████████████████████████████████████████████████████████████████████████| 183/183 [00:01<00:00, 158.83it/s]\n"
     ]
    },
    {
     "name": "stdout",
     "output_type": "stream",
     "text": [
      "Loss: 0.123\n"
     ]
    },
    {
     "name": "stderr",
     "output_type": "stream",
     "text": [
      "Epoch 134: 100%|██████████████████████████████████████████████████████████████████████████████████████████████████████████| 183/183 [00:01<00:00, 158.78it/s]\n"
     ]
    },
    {
     "name": "stdout",
     "output_type": "stream",
     "text": [
      "Loss: 0.102\n"
     ]
    },
    {
     "name": "stderr",
     "output_type": "stream",
     "text": [
      "Epoch 135: 100%|██████████████████████████████████████████████████████████████████████████████████████████████████████████| 183/183 [00:01<00:00, 158.62it/s]\n"
     ]
    },
    {
     "name": "stdout",
     "output_type": "stream",
     "text": [
      "Loss: 0.117\n",
      "Train, MAE: 2.7262, RMSE: 4.4129, MAPE: 6.5326\n",
      "Valid, MAE: 3.8042, RMSE: 6.4394, MAPE: 9.4331\n"
     ]
    },
    {
     "name": "stderr",
     "output_type": "stream",
     "text": [
      "Epoch 136: 100%|██████████████████████████████████████████████████████████████████████████████████████████████████████████| 183/183 [00:01<00:00, 162.12it/s]\n"
     ]
    },
    {
     "name": "stdout",
     "output_type": "stream",
     "text": [
      "Loss: 0.096\n"
     ]
    },
    {
     "name": "stderr",
     "output_type": "stream",
     "text": [
      "Epoch 137: 100%|██████████████████████████████████████████████████████████████████████████████████████████████████████████| 183/183 [00:01<00:00, 162.31it/s]\n"
     ]
    },
    {
     "name": "stdout",
     "output_type": "stream",
     "text": [
      "Loss: 0.112\n"
     ]
    },
    {
     "name": "stderr",
     "output_type": "stream",
     "text": [
      "Epoch 138: 100%|██████████████████████████████████████████████████████████████████████████████████████████████████████████| 183/183 [00:01<00:00, 163.00it/s]\n"
     ]
    },
    {
     "name": "stdout",
     "output_type": "stream",
     "text": [
      "Loss: 0.099\n"
     ]
    },
    {
     "name": "stderr",
     "output_type": "stream",
     "text": [
      "Epoch 139: 100%|██████████████████████████████████████████████████████████████████████████████████████████████████████████| 183/183 [00:01<00:00, 160.09it/s]\n"
     ]
    },
    {
     "name": "stdout",
     "output_type": "stream",
     "text": [
      "Loss: 0.093\n"
     ]
    },
    {
     "name": "stderr",
     "output_type": "stream",
     "text": [
      "Epoch 140: 100%|██████████████████████████████████████████████████████████████████████████████████████████████████████████| 183/183 [00:01<00:00, 159.13it/s]\n"
     ]
    },
    {
     "name": "stdout",
     "output_type": "stream",
     "text": [
      "Loss: 0.117\n",
      "Train, MAE: 2.7145, RMSE: 4.4060, MAPE: 6.5117\n",
      "Valid, MAE: 3.8069, RMSE: 6.4610, MAPE: 9.4493\n"
     ]
    },
    {
     "name": "stderr",
     "output_type": "stream",
     "text": [
      "Epoch 141: 100%|██████████████████████████████████████████████████████████████████████████████████████████████████████████| 183/183 [00:01<00:00, 157.90it/s]\n"
     ]
    },
    {
     "name": "stdout",
     "output_type": "stream",
     "text": [
      "Loss: 0.097\n"
     ]
    },
    {
     "name": "stderr",
     "output_type": "stream",
     "text": [
      "Epoch 142: 100%|██████████████████████████████████████████████████████████████████████████████████████████████████████████| 183/183 [00:01<00:00, 160.13it/s]\n"
     ]
    },
    {
     "name": "stdout",
     "output_type": "stream",
     "text": [
      "Loss: 0.121\n"
     ]
    },
    {
     "name": "stderr",
     "output_type": "stream",
     "text": [
      "Epoch 143: 100%|██████████████████████████████████████████████████████████████████████████████████████████████████████████| 183/183 [00:01<00:00, 159.39it/s]\n"
     ]
    },
    {
     "name": "stdout",
     "output_type": "stream",
     "text": [
      "Loss: 0.104\n"
     ]
    },
    {
     "name": "stderr",
     "output_type": "stream",
     "text": [
      "Epoch 144: 100%|██████████████████████████████████████████████████████████████████████████████████████████████████████████| 183/183 [00:01<00:00, 158.90it/s]\n"
     ]
    },
    {
     "name": "stdout",
     "output_type": "stream",
     "text": [
      "Loss: 0.121\n"
     ]
    },
    {
     "name": "stderr",
     "output_type": "stream",
     "text": [
      "Epoch 145: 100%|██████████████████████████████████████████████████████████████████████████████████████████████████████████| 183/183 [00:01<00:00, 159.08it/s]\n"
     ]
    },
    {
     "name": "stdout",
     "output_type": "stream",
     "text": [
      "Loss: 0.149\n",
      "Train, MAE: 2.7141, RMSE: 4.3951, MAPE: 6.5172\n",
      "Valid, MAE: 3.8053, RMSE: 6.4505, MAPE: 9.4284\n"
     ]
    },
    {
     "name": "stderr",
     "output_type": "stream",
     "text": [
      "Epoch 146: 100%|██████████████████████████████████████████████████████████████████████████████████████████████████████████| 183/183 [00:01<00:00, 159.31it/s]\n"
     ]
    },
    {
     "name": "stdout",
     "output_type": "stream",
     "text": [
      "Loss: 0.095\n"
     ]
    },
    {
     "name": "stderr",
     "output_type": "stream",
     "text": [
      "Epoch 147: 100%|██████████████████████████████████████████████████████████████████████████████████████████████████████████| 183/183 [00:01<00:00, 158.65it/s]\n"
     ]
    },
    {
     "name": "stdout",
     "output_type": "stream",
     "text": [
      "Loss: 0.115\n"
     ]
    },
    {
     "name": "stderr",
     "output_type": "stream",
     "text": [
      "Epoch 148: 100%|██████████████████████████████████████████████████████████████████████████████████████████████████████████| 183/183 [00:01<00:00, 159.29it/s]\n"
     ]
    },
    {
     "name": "stdout",
     "output_type": "stream",
     "text": [
      "Loss: 0.117\n"
     ]
    },
    {
     "name": "stderr",
     "output_type": "stream",
     "text": [
      "Epoch 149: 100%|██████████████████████████████████████████████████████████████████████████████████████████████████████████| 183/183 [00:01<00:00, 159.32it/s]\n"
     ]
    },
    {
     "name": "stdout",
     "output_type": "stream",
     "text": [
      "Loss: 0.085\n"
     ]
    },
    {
     "name": "stderr",
     "output_type": "stream",
     "text": [
      "Epoch 150: 100%|██████████████████████████████████████████████████████████████████████████████████████████████████████████| 183/183 [00:01<00:00, 158.89it/s]\n"
     ]
    },
    {
     "name": "stdout",
     "output_type": "stream",
     "text": [
      "Loss: 0.130\n",
      "Train, MAE: 2.7113, RMSE: 4.3838, MAPE: 6.4861\n",
      "Valid, MAE: 3.7987, RMSE: 6.4346, MAPE: 9.3961\n"
     ]
    },
    {
     "name": "stderr",
     "output_type": "stream",
     "text": [
      "Epoch 151: 100%|██████████████████████████████████████████████████████████████████████████████████████████████████████████| 183/183 [00:01<00:00, 158.97it/s]\n"
     ]
    },
    {
     "name": "stdout",
     "output_type": "stream",
     "text": [
      "Loss: 0.116\n"
     ]
    },
    {
     "name": "stderr",
     "output_type": "stream",
     "text": [
      "Epoch 152: 100%|██████████████████████████████████████████████████████████████████████████████████████████████████████████| 183/183 [00:01<00:00, 160.04it/s]\n"
     ]
    },
    {
     "name": "stdout",
     "output_type": "stream",
     "text": [
      "Loss: 0.123\n"
     ]
    },
    {
     "name": "stderr",
     "output_type": "stream",
     "text": [
      "Epoch 153: 100%|██████████████████████████████████████████████████████████████████████████████████████████████████████████| 183/183 [00:01<00:00, 158.55it/s]\n"
     ]
    },
    {
     "name": "stdout",
     "output_type": "stream",
     "text": [
      "Loss: 0.121\n"
     ]
    },
    {
     "name": "stderr",
     "output_type": "stream",
     "text": [
      "Epoch 154: 100%|██████████████████████████████████████████████████████████████████████████████████████████████████████████| 183/183 [00:01<00:00, 159.69it/s]\n"
     ]
    },
    {
     "name": "stdout",
     "output_type": "stream",
     "text": [
      "Loss: 0.145\n"
     ]
    },
    {
     "name": "stderr",
     "output_type": "stream",
     "text": [
      "Epoch 155: 100%|██████████████████████████████████████████████████████████████████████████████████████████████████████████| 183/183 [00:01<00:00, 160.62it/s]\n"
     ]
    },
    {
     "name": "stdout",
     "output_type": "stream",
     "text": [
      "Loss: 0.120\n",
      "Train, MAE: 2.7059, RMSE: 4.3816, MAPE: 6.4929\n",
      "Valid, MAE: 3.8178, RMSE: 6.4667, MAPE: 9.4651\n"
     ]
    },
    {
     "name": "stderr",
     "output_type": "stream",
     "text": [
      "Epoch 156: 100%|██████████████████████████████████████████████████████████████████████████████████████████████████████████| 183/183 [00:01<00:00, 159.45it/s]\n"
     ]
    },
    {
     "name": "stdout",
     "output_type": "stream",
     "text": [
      "Loss: 0.087\n"
     ]
    },
    {
     "name": "stderr",
     "output_type": "stream",
     "text": [
      "Epoch 157: 100%|██████████████████████████████████████████████████████████████████████████████████████████████████████████| 183/183 [00:01<00:00, 159.69it/s]\n"
     ]
    },
    {
     "name": "stdout",
     "output_type": "stream",
     "text": [
      "Loss: 0.086\n"
     ]
    },
    {
     "name": "stderr",
     "output_type": "stream",
     "text": [
      "Epoch 158: 100%|██████████████████████████████████████████████████████████████████████████████████████████████████████████| 183/183 [00:01<00:00, 152.40it/s]\n"
     ]
    },
    {
     "name": "stdout",
     "output_type": "stream",
     "text": [
      "Loss: 0.117\n"
     ]
    },
    {
     "name": "stderr",
     "output_type": "stream",
     "text": [
      "Epoch 159: 100%|██████████████████████████████████████████████████████████████████████████████████████████████████████████| 183/183 [00:01<00:00, 159.13it/s]\n"
     ]
    },
    {
     "name": "stdout",
     "output_type": "stream",
     "text": [
      "Loss: 0.098\n"
     ]
    },
    {
     "name": "stderr",
     "output_type": "stream",
     "text": [
      "Epoch 160: 100%|██████████████████████████████████████████████████████████████████████████████████████████████████████████| 183/183 [00:01<00:00, 159.22it/s]\n"
     ]
    },
    {
     "name": "stdout",
     "output_type": "stream",
     "text": [
      "Loss: 0.093\n",
      "Train, MAE: 2.6988, RMSE: 4.3740, MAPE: 6.5044\n",
      "Valid, MAE: 3.8071, RMSE: 6.4648, MAPE: 9.5269\n"
     ]
    },
    {
     "name": "stderr",
     "output_type": "stream",
     "text": [
      "Epoch 161: 100%|██████████████████████████████████████████████████████████████████████████████████████████████████████████| 183/183 [00:01<00:00, 160.46it/s]\n"
     ]
    },
    {
     "name": "stdout",
     "output_type": "stream",
     "text": [
      "Loss: 0.078\n"
     ]
    },
    {
     "name": "stderr",
     "output_type": "stream",
     "text": [
      "Epoch 162: 100%|██████████████████████████████████████████████████████████████████████████████████████████████████████████| 183/183 [00:01<00:00, 159.86it/s]\n"
     ]
    },
    {
     "name": "stdout",
     "output_type": "stream",
     "text": [
      "Loss: 0.109\n"
     ]
    },
    {
     "name": "stderr",
     "output_type": "stream",
     "text": [
      "Epoch 163: 100%|██████████████████████████████████████████████████████████████████████████████████████████████████████████| 183/183 [00:01<00:00, 159.96it/s]\n"
     ]
    },
    {
     "name": "stdout",
     "output_type": "stream",
     "text": [
      "Loss: 0.127\n"
     ]
    },
    {
     "name": "stderr",
     "output_type": "stream",
     "text": [
      "Epoch 164: 100%|██████████████████████████████████████████████████████████████████████████████████████████████████████████| 183/183 [00:01<00:00, 159.20it/s]\n"
     ]
    },
    {
     "name": "stdout",
     "output_type": "stream",
     "text": [
      "Loss: 0.112\n"
     ]
    },
    {
     "name": "stderr",
     "output_type": "stream",
     "text": [
      "Epoch 165: 100%|██████████████████████████████████████████████████████████████████████████████████████████████████████████| 183/183 [00:01<00:00, 153.21it/s]\n"
     ]
    },
    {
     "name": "stdout",
     "output_type": "stream",
     "text": [
      "Loss: 0.105\n",
      "Train, MAE: 2.7071, RMSE: 4.3721, MAPE: 6.4756\n",
      "Valid, MAE: 3.8338, RMSE: 6.4884, MAPE: 9.5593\n"
     ]
    },
    {
     "name": "stderr",
     "output_type": "stream",
     "text": [
      "Epoch 166: 100%|██████████████████████████████████████████████████████████████████████████████████████████████████████████| 183/183 [00:01<00:00, 172.77it/s]\n"
     ]
    },
    {
     "name": "stdout",
     "output_type": "stream",
     "text": [
      "Loss: 0.115\n"
     ]
    },
    {
     "name": "stderr",
     "output_type": "stream",
     "text": [
      "Epoch 167: 100%|██████████████████████████████████████████████████████████████████████████████████████████████████████████| 183/183 [00:01<00:00, 172.96it/s]\n"
     ]
    },
    {
     "name": "stdout",
     "output_type": "stream",
     "text": [
      "Loss: 0.101\n"
     ]
    },
    {
     "name": "stderr",
     "output_type": "stream",
     "text": [
      "Epoch 168: 100%|██████████████████████████████████████████████████████████████████████████████████████████████████████████| 183/183 [00:01<00:00, 171.79it/s]\n"
     ]
    },
    {
     "name": "stdout",
     "output_type": "stream",
     "text": [
      "Loss: 0.136\n"
     ]
    },
    {
     "name": "stderr",
     "output_type": "stream",
     "text": [
      "Epoch 169: 100%|██████████████████████████████████████████████████████████████████████████████████████████████████████████| 183/183 [00:01<00:00, 172.87it/s]\n"
     ]
    },
    {
     "name": "stdout",
     "output_type": "stream",
     "text": [
      "Loss: 0.108\n"
     ]
    },
    {
     "name": "stderr",
     "output_type": "stream",
     "text": [
      "Epoch 170: 100%|██████████████████████████████████████████████████████████████████████████████████████████████████████████| 183/183 [00:01<00:00, 172.72it/s]\n"
     ]
    },
    {
     "name": "stdout",
     "output_type": "stream",
     "text": [
      "Loss: 0.134\n",
      "Train, MAE: 2.7027, RMSE: 4.3640, MAPE: 6.4271\n",
      "Valid, MAE: 3.8437, RMSE: 6.5099, MAPE: 9.4608\n"
     ]
    },
    {
     "name": "stderr",
     "output_type": "stream",
     "text": [
      "Epoch 171: 100%|██████████████████████████████████████████████████████████████████████████████████████████████████████████| 183/183 [00:01<00:00, 168.59it/s]\n"
     ]
    },
    {
     "name": "stdout",
     "output_type": "stream",
     "text": [
      "Loss: 0.102\n"
     ]
    },
    {
     "name": "stderr",
     "output_type": "stream",
     "text": [
      "Epoch 172: 100%|██████████████████████████████████████████████████████████████████████████████████████████████████████████| 183/183 [00:01<00:00, 167.79it/s]\n"
     ]
    },
    {
     "name": "stdout",
     "output_type": "stream",
     "text": [
      "Loss: 0.095\n"
     ]
    },
    {
     "name": "stderr",
     "output_type": "stream",
     "text": [
      "Epoch 173: 100%|██████████████████████████████████████████████████████████████████████████████████████████████████████████| 183/183 [00:01<00:00, 161.28it/s]\n"
     ]
    },
    {
     "name": "stdout",
     "output_type": "stream",
     "text": [
      "Loss: 0.090\n"
     ]
    },
    {
     "name": "stderr",
     "output_type": "stream",
     "text": [
      "Epoch 174: 100%|██████████████████████████████████████████████████████████████████████████████████████████████████████████| 183/183 [00:01<00:00, 160.27it/s]\n"
     ]
    },
    {
     "name": "stdout",
     "output_type": "stream",
     "text": [
      "Loss: 0.115\n"
     ]
    },
    {
     "name": "stderr",
     "output_type": "stream",
     "text": [
      "Epoch 175: 100%|██████████████████████████████████████████████████████████████████████████████████████████████████████████| 183/183 [00:01<00:00, 159.32it/s]\n"
     ]
    },
    {
     "name": "stdout",
     "output_type": "stream",
     "text": [
      "Loss: 0.096\n",
      "Train, MAE: 2.7007, RMSE: 4.3495, MAPE: 6.4277\n",
      "Valid, MAE: 3.8565, RMSE: 6.5181, MAPE: 9.5118\n"
     ]
    },
    {
     "name": "stderr",
     "output_type": "stream",
     "text": [
      "Epoch 176: 100%|██████████████████████████████████████████████████████████████████████████████████████████████████████████| 183/183 [00:01<00:00, 160.34it/s]\n"
     ]
    },
    {
     "name": "stdout",
     "output_type": "stream",
     "text": [
      "Loss: 0.116\n"
     ]
    },
    {
     "name": "stderr",
     "output_type": "stream",
     "text": [
      "Epoch 177: 100%|██████████████████████████████████████████████████████████████████████████████████████████████████████████| 183/183 [00:01<00:00, 171.86it/s]\n"
     ]
    },
    {
     "name": "stdout",
     "output_type": "stream",
     "text": [
      "Loss: 0.128\n"
     ]
    },
    {
     "name": "stderr",
     "output_type": "stream",
     "text": [
      "Epoch 178: 100%|██████████████████████████████████████████████████████████████████████████████████████████████████████████| 183/183 [00:01<00:00, 163.39it/s]\n"
     ]
    },
    {
     "name": "stdout",
     "output_type": "stream",
     "text": [
      "Loss: 0.114\n"
     ]
    },
    {
     "name": "stderr",
     "output_type": "stream",
     "text": [
      "Epoch 179: 100%|██████████████████████████████████████████████████████████████████████████████████████████████████████████| 183/183 [00:01<00:00, 163.80it/s]\n"
     ]
    },
    {
     "name": "stdout",
     "output_type": "stream",
     "text": [
      "Loss: 0.117\n"
     ]
    },
    {
     "name": "stderr",
     "output_type": "stream",
     "text": [
      "Epoch 180: 100%|██████████████████████████████████████████████████████████████████████████████████████████████████████████| 183/183 [00:01<00:00, 162.75it/s]\n"
     ]
    },
    {
     "name": "stdout",
     "output_type": "stream",
     "text": [
      "Loss: 0.108\n",
      "Train, MAE: 2.6897, RMSE: 4.3460, MAPE: 6.4275\n",
      "Valid, MAE: 3.8383, RMSE: 6.5318, MAPE: 9.4961\n"
     ]
    },
    {
     "name": "stderr",
     "output_type": "stream",
     "text": [
      "Epoch 181: 100%|██████████████████████████████████████████████████████████████████████████████████████████████████████████| 183/183 [00:01<00:00, 163.15it/s]\n"
     ]
    },
    {
     "name": "stdout",
     "output_type": "stream",
     "text": [
      "Loss: 0.106\n"
     ]
    },
    {
     "name": "stderr",
     "output_type": "stream",
     "text": [
      "Epoch 182: 100%|██████████████████████████████████████████████████████████████████████████████████████████████████████████| 183/183 [00:01<00:00, 164.34it/s]\n"
     ]
    },
    {
     "name": "stdout",
     "output_type": "stream",
     "text": [
      "Loss: 0.116\n"
     ]
    },
    {
     "name": "stderr",
     "output_type": "stream",
     "text": [
      "Epoch 183: 100%|██████████████████████████████████████████████████████████████████████████████████████████████████████████| 183/183 [00:01<00:00, 163.59it/s]\n"
     ]
    },
    {
     "name": "stdout",
     "output_type": "stream",
     "text": [
      "Loss: 0.114\n"
     ]
    },
    {
     "name": "stderr",
     "output_type": "stream",
     "text": [
      "Epoch 184: 100%|██████████████████████████████████████████████████████████████████████████████████████████████████████████| 183/183 [00:01<00:00, 163.89it/s]\n"
     ]
    },
    {
     "name": "stdout",
     "output_type": "stream",
     "text": [
      "Loss: 0.105\n"
     ]
    },
    {
     "name": "stderr",
     "output_type": "stream",
     "text": [
      "Epoch 185: 100%|██████████████████████████████████████████████████████████████████████████████████████████████████████████| 183/183 [00:01<00:00, 163.46it/s]\n"
     ]
    },
    {
     "name": "stdout",
     "output_type": "stream",
     "text": [
      "Loss: 0.114\n",
      "Train, MAE: 2.6837, RMSE: 4.3387, MAPE: 6.4380\n",
      "Valid, MAE: 3.8409, RMSE: 6.5214, MAPE: 9.5477\n"
     ]
    },
    {
     "name": "stderr",
     "output_type": "stream",
     "text": [
      "Epoch 186: 100%|██████████████████████████████████████████████████████████████████████████████████████████████████████████| 183/183 [00:01<00:00, 163.67it/s]\n"
     ]
    },
    {
     "name": "stdout",
     "output_type": "stream",
     "text": [
      "Loss: 0.109\n"
     ]
    },
    {
     "name": "stderr",
     "output_type": "stream",
     "text": [
      "Epoch 187: 100%|██████████████████████████████████████████████████████████████████████████████████████████████████████████| 183/183 [00:01<00:00, 170.36it/s]\n"
     ]
    },
    {
     "name": "stdout",
     "output_type": "stream",
     "text": [
      "Loss: 0.089\n"
     ]
    },
    {
     "name": "stderr",
     "output_type": "stream",
     "text": [
      "Epoch 188: 100%|██████████████████████████████████████████████████████████████████████████████████████████████████████████| 183/183 [00:01<00:00, 165.11it/s]\n"
     ]
    },
    {
     "name": "stdout",
     "output_type": "stream",
     "text": [
      "Loss: 0.082\n"
     ]
    },
    {
     "name": "stderr",
     "output_type": "stream",
     "text": [
      "Epoch 189: 100%|██████████████████████████████████████████████████████████████████████████████████████████████████████████| 183/183 [00:01<00:00, 163.61it/s]\n"
     ]
    },
    {
     "name": "stdout",
     "output_type": "stream",
     "text": [
      "Loss: 0.100\n"
     ]
    },
    {
     "name": "stderr",
     "output_type": "stream",
     "text": [
      "Epoch 190: 100%|██████████████████████████████████████████████████████████████████████████████████████████████████████████| 183/183 [00:01<00:00, 164.24it/s]\n"
     ]
    },
    {
     "name": "stdout",
     "output_type": "stream",
     "text": [
      "Loss: 0.085\n",
      "Train, MAE: 2.6870, RMSE: 4.3284, MAPE: 6.4193\n",
      "Valid, MAE: 3.8314, RMSE: 6.4914, MAPE: 9.5475\n"
     ]
    },
    {
     "name": "stderr",
     "output_type": "stream",
     "text": [
      "Epoch 191: 100%|██████████████████████████████████████████████████████████████████████████████████████████████████████████| 183/183 [00:01<00:00, 161.92it/s]\n"
     ]
    },
    {
     "name": "stdout",
     "output_type": "stream",
     "text": [
      "Loss: 0.091\n"
     ]
    },
    {
     "name": "stderr",
     "output_type": "stream",
     "text": [
      "Epoch 192: 100%|██████████████████████████████████████████████████████████████████████████████████████████████████████████| 183/183 [00:01<00:00, 160.35it/s]\n"
     ]
    },
    {
     "name": "stdout",
     "output_type": "stream",
     "text": [
      "Loss: 0.098\n"
     ]
    },
    {
     "name": "stderr",
     "output_type": "stream",
     "text": [
      "Epoch 193: 100%|██████████████████████████████████████████████████████████████████████████████████████████████████████████| 183/183 [00:01<00:00, 159.55it/s]\n"
     ]
    },
    {
     "name": "stdout",
     "output_type": "stream",
     "text": [
      "Loss: 0.100\n"
     ]
    },
    {
     "name": "stderr",
     "output_type": "stream",
     "text": [
      "Epoch 194: 100%|██████████████████████████████████████████████████████████████████████████████████████████████████████████| 183/183 [00:01<00:00, 161.91it/s]\n"
     ]
    },
    {
     "name": "stdout",
     "output_type": "stream",
     "text": [
      "Loss: 0.101\n"
     ]
    },
    {
     "name": "stderr",
     "output_type": "stream",
     "text": [
      "Epoch 195: 100%|██████████████████████████████████████████████████████████████████████████████████████████████████████████| 183/183 [00:01<00:00, 160.04it/s]\n"
     ]
    },
    {
     "name": "stdout",
     "output_type": "stream",
     "text": [
      "Loss: 0.077\n",
      "Train, MAE: 2.6811, RMSE: 4.3261, MAPE: 6.4208\n",
      "Valid, MAE: 3.8219, RMSE: 6.4861, MAPE: 9.4912\n"
     ]
    },
    {
     "name": "stderr",
     "output_type": "stream",
     "text": [
      "Epoch 196: 100%|██████████████████████████████████████████████████████████████████████████████████████████████████████████| 183/183 [00:01<00:00, 158.83it/s]\n"
     ]
    },
    {
     "name": "stdout",
     "output_type": "stream",
     "text": [
      "Loss: 0.132\n"
     ]
    },
    {
     "name": "stderr",
     "output_type": "stream",
     "text": [
      "Epoch 197: 100%|██████████████████████████████████████████████████████████████████████████████████████████████████████████| 183/183 [00:01<00:00, 158.70it/s]\n"
     ]
    },
    {
     "name": "stdout",
     "output_type": "stream",
     "text": [
      "Loss: 0.083\n"
     ]
    },
    {
     "name": "stderr",
     "output_type": "stream",
     "text": [
      "Epoch 198: 100%|██████████████████████████████████████████████████████████████████████████████████████████████████████████| 183/183 [00:01<00:00, 161.49it/s]\n"
     ]
    },
    {
     "name": "stdout",
     "output_type": "stream",
     "text": [
      "Loss: 0.105\n"
     ]
    },
    {
     "name": "stderr",
     "output_type": "stream",
     "text": [
      "Epoch 199: 100%|██████████████████████████████████████████████████████████████████████████████████████████████████████████| 183/183 [00:01<00:00, 163.78it/s]\n"
     ]
    },
    {
     "name": "stdout",
     "output_type": "stream",
     "text": [
      "Loss: 0.148\n"
     ]
    }
   ],
   "source": [
    "config['N_NODE'] = dataset.n_node\n",
    "model = model_train(train_dataloader, val_dataloader, config, device='cuda')"
   ]
  },
  {
   "cell_type": "code",
   "execution_count": 14,
   "id": "d4885fb9-2a75-4e9a-bf82-3cc7741a334e",
   "metadata": {},
   "outputs": [
    {
     "name": "stdout",
     "output_type": "stream",
     "text": [
      "Test, MAE: 3.9813, RMSE: 6.4833, MAPE: 9.4440\n"
     ]
    },
    {
     "data": {
      "image/png": "[encoded data removed]",
      "text/plain": [
       "<Figure size 640x480 with 1 Axes>"
      ]
     },
     "metadata": {},
     "output_type": "display_data"
    }
   ],
   "source": [
    "model_test(model, test_dataloader, 'cuda', config)"
   ]
  }
 ],
 "metadata": {
  "kernelspec": {
   "display_name": "Python 3 (ipykernel)",
   "language": "python",
   "name": "python3"
  },
  "language_info": {
   "codemirror_mode": {
    "name": "ipython",
    "version": 3
   },
   "file_extension": ".py",
   "mimetype": "text/x-python",
   "name": "python",
   "nbconvert_exporter": "python",
   "pygments_lexer": "ipython3",
   "version": "3.10.15"
  }
 },
 "nbformat": 4,
 "nbformat_minor": 5
}
